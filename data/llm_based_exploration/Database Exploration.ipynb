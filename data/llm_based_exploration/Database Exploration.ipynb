{
 "cells": [
  {
   "cell_type": "code",
   "execution_count": 2,
   "metadata": {},
   "outputs": [],
   "source": [
    "#!pip install ipykernel\n",
    "import duckdb\n",
    "import ibis\n",
    "import polars as pl\n",
    "from openai import OpenAI\n",
    "import json\n",
    "import pandas as pd"
   ]
  },
  {
   "cell_type": "code",
   "execution_count": 16,
   "metadata": {},
   "outputs": [
    {
     "data": {
      "text/plain": [
       "['DemographicValueLabelMapping',\n",
       " 'Demographics',\n",
       " 'EmploymentDetails',\n",
       " 'LegalInfo',\n",
       " 'SubstanceUseHistory',\n",
       " 'TreatmentInformation',\n",
       " 'teds_a_raw_2015_2019']"
      ]
     },
     "execution_count": 16,
     "metadata": {},
     "output_type": "execute_result"
    }
   ],
   "source": [
    "# Connect to your DuckDB database using Ibis\n",
    "con = ibis.duckdb.connect('samhsa_data.db')\n",
    "con.list_tables() # List the tables in the db\")\n"
   ]
  },
  {
   "cell_type": "markdown",
   "metadata": {},
   "source": [
    "#### Data Ingestion : Creating Polars DataFrame \n",
    "\n",
    "We could use two apporaches here. USe a simple ibis connection to excute the select query and turn the resulting pandas frame into polars. \n",
    "OR use duckdb connection and arrow to input directly into polars without a panda - polar connversion. Approach 2  appears to be marginally faster for this amount of data. So I would be going ahead with that for the future tables. \n"
   ]
  },
  {
   "cell_type": "code",
   "execution_count": 4,
   "metadata": {},
   "outputs": [],
   "source": [
    "# Ibis method\n",
    "demographics_pd = con.table('Demographics').execute() #you can add limit(100) before excecute to sample this data\n",
    "# And then convert to polars \n",
    "demo_pl = pl.from_pandas(demographics_pd)\n"
   ]
  },
  {
   "cell_type": "code",
   "execution_count": 5,
   "metadata": {},
   "outputs": [
    {
     "data": {
      "text/html": [
       "<div><style>\n",
       ".dataframe > thead > tr,\n",
       ".dataframe > tbody > tr {\n",
       "  text-align: right;\n",
       "  white-space: pre-wrap;\n",
       "}\n",
       "</style>\n",
       "<small>shape: (2, 14)</small><table border=\"1\" class=\"dataframe\"><thead><tr><th>CASEID</th><th>ADMYR</th><th>AGE</th><th>GENDER</th><th>RACE</th><th>ETHNIC</th><th>MARSTAT</th><th>EDUC</th><th>PREG</th><th>VET</th><th>STFIPS</th><th>CBSA2010</th><th>REGION</th><th>DIVISION</th></tr><tr><td>i64</td><td>i64</td><td>i64</td><td>i64</td><td>i64</td><td>i64</td><td>i64</td><td>i64</td><td>i64</td><td>i64</td><td>i64</td><td>i64</td><td>i64</td><td>i64</td></tr></thead><tbody><tr><td>20151524993</td><td>2015</td><td>6</td><td>2</td><td>5</td><td>3</td><td>4</td><td>2</td><td>1</td><td>2</td><td>2</td><td>-9</td><td>4</td><td>9</td></tr><tr><td>20151449532</td><td>2015</td><td>7</td><td>2</td><td>1</td><td>4</td><td>2</td><td>3</td><td>2</td><td>2</td><td>2</td><td>-9</td><td>4</td><td>9</td></tr></tbody></table></div>"
      ],
      "text/plain": [
       "shape: (2, 14)\n",
       "┌─────────────┬───────┬─────┬────────┬───┬────────┬──────────┬────────┬──────────┐\n",
       "│ CASEID      ┆ ADMYR ┆ AGE ┆ GENDER ┆ … ┆ STFIPS ┆ CBSA2010 ┆ REGION ┆ DIVISION │\n",
       "│ ---         ┆ ---   ┆ --- ┆ ---    ┆   ┆ ---    ┆ ---      ┆ ---    ┆ ---      │\n",
       "│ i64         ┆ i64   ┆ i64 ┆ i64    ┆   ┆ i64    ┆ i64      ┆ i64    ┆ i64      │\n",
       "╞═════════════╪═══════╪═════╪════════╪═══╪════════╪══════════╪════════╪══════════╡\n",
       "│ 20151524993 ┆ 2015  ┆ 6   ┆ 2      ┆ … ┆ 2      ┆ -9       ┆ 4      ┆ 9        │\n",
       "│ 20151449532 ┆ 2015  ┆ 7   ┆ 2      ┆ … ┆ 2      ┆ -9       ┆ 4      ┆ 9        │\n",
       "└─────────────┴───────┴─────┴────────┴───┴────────┴──────────┴────────┴──────────┘"
      ]
     },
     "execution_count": 5,
     "metadata": {},
     "output_type": "execute_result"
    }
   ],
   "source": [
    "demo_pl.head(2)\n",
    "#demo_pl.columns"
   ]
  },
  {
   "cell_type": "code",
   "execution_count": 6,
   "metadata": {},
   "outputs": [],
   "source": [
    "# DuckDB Method to Load database table \n",
    "dbcon = duckdb.connect('samhsa_data.db')\n",
    "demo = pl.from_arrow(dbcon.execute(\"SELECT * FROM Demographics\").arrow())\n",
    "dbcon.close()"
   ]
  },
  {
   "cell_type": "code",
   "execution_count": 7,
   "metadata": {},
   "outputs": [
    {
     "data": {
      "text/html": [
       "<div><style>\n",
       ".dataframe > thead > tr,\n",
       ".dataframe > tbody > tr {\n",
       "  text-align: right;\n",
       "  white-space: pre-wrap;\n",
       "}\n",
       "</style>\n",
       "<small>shape: (2, 14)</small><table border=\"1\" class=\"dataframe\"><thead><tr><th>CASEID</th><th>ADMYR</th><th>AGE</th><th>GENDER</th><th>RACE</th><th>ETHNIC</th><th>MARSTAT</th><th>EDUC</th><th>PREG</th><th>VET</th><th>STFIPS</th><th>CBSA2010</th><th>REGION</th><th>DIVISION</th></tr><tr><td>i64</td><td>i64</td><td>i64</td><td>i64</td><td>i64</td><td>i64</td><td>i64</td><td>i64</td><td>i64</td><td>i64</td><td>i64</td><td>i64</td><td>i64</td><td>i64</td></tr></thead><tbody><tr><td>20151524993</td><td>2015</td><td>6</td><td>2</td><td>5</td><td>3</td><td>4</td><td>2</td><td>1</td><td>2</td><td>2</td><td>-9</td><td>4</td><td>9</td></tr><tr><td>20151449532</td><td>2015</td><td>7</td><td>2</td><td>1</td><td>4</td><td>2</td><td>3</td><td>2</td><td>2</td><td>2</td><td>-9</td><td>4</td><td>9</td></tr></tbody></table></div>"
      ],
      "text/plain": [
       "shape: (2, 14)\n",
       "┌─────────────┬───────┬─────┬────────┬───┬────────┬──────────┬────────┬──────────┐\n",
       "│ CASEID      ┆ ADMYR ┆ AGE ┆ GENDER ┆ … ┆ STFIPS ┆ CBSA2010 ┆ REGION ┆ DIVISION │\n",
       "│ ---         ┆ ---   ┆ --- ┆ ---    ┆   ┆ ---    ┆ ---      ┆ ---    ┆ ---      │\n",
       "│ i64         ┆ i64   ┆ i64 ┆ i64    ┆   ┆ i64    ┆ i64      ┆ i64    ┆ i64      │\n",
       "╞═════════════╪═══════╪═════╪════════╪═══╪════════╪══════════╪════════╪══════════╡\n",
       "│ 20151524993 ┆ 2015  ┆ 6   ┆ 2      ┆ … ┆ 2      ┆ -9       ┆ 4      ┆ 9        │\n",
       "│ 20151449532 ┆ 2015  ┆ 7   ┆ 2      ┆ … ┆ 2      ┆ -9       ┆ 4      ┆ 9        │\n",
       "└─────────────┴───────┴─────┴────────┴───┴────────┴──────────┴────────┴──────────┘"
      ]
     },
     "execution_count": 7,
     "metadata": {},
     "output_type": "execute_result"
    }
   ],
   "source": [
    "demo.head(2)\n",
    "#pl_df.columns"
   ]
  },
  {
   "cell_type": "code",
   "execution_count": 8,
   "metadata": {},
   "outputs": [],
   "source": [
    "# Ingest all the other tables into polars dfs\n",
    "dbcon = duckdb.connect('samhsa_data.db')\n",
    "emp_det = pl.from_arrow(dbcon.execute(\"SELECT * FROM EmploymentDetails\").arrow())\n",
    "legal_info = pl.from_arrow(dbcon.execute(\"SELECT * FROM LegalInfo\").arrow())\n",
    "subs_hist = pl.from_arrow(dbcon.execute(\"SELECT * FROM SubstanceUseHistory\").arrow())\n",
    "treat_info = pl.from_arrow(dbcon.execute(\"SELECT * FROM TreatmentInformation\").arrow())\n",
    "dbcon.close()\n"
   ]
  },
  {
   "cell_type": "code",
   "execution_count": 17,
   "metadata": {},
   "outputs": [
    {
     "data": {
      "text/html": [
       "<div><style>\n",
       ".dataframe > thead > tr,\n",
       ".dataframe > tbody > tr {\n",
       "  text-align: right;\n",
       "  white-space: pre-wrap;\n",
       "}\n",
       "</style>\n",
       "<small>shape: (10, 3)</small><table border=\"1\" class=\"dataframe\"><thead><tr><th>value</th><th>label</th><th>tablename</th></tr><tr><td>i32</td><td>str</td><td>str</td></tr></thead><tbody><tr><td>3</td><td>&quot;Cuban or other specific Hispan…</td><td>&quot;ETHNIC&quot;</td></tr><tr><td>4</td><td>&quot;Not of Hispanic or Latino orig…</td><td>&quot;ETHNIC&quot;</td></tr><tr><td>5</td><td>&quot;Hispanic or Latino, specific o…</td><td>&quot;ETHNIC&quot;</td></tr><tr><td>-9</td><td>&quot;Missing/unknown/not collected/…</td><td>&quot;ETHNIC&quot;</td></tr><tr><td>1</td><td>&quot;Never married&quot;</td><td>&quot;MARSTAT&quot;</td></tr><tr><td>2</td><td>&quot;Now married&quot;</td><td>&quot;MARSTAT&quot;</td></tr><tr><td>3</td><td>&quot;Separated&quot;</td><td>&quot;MARSTAT&quot;</td></tr><tr><td>4</td><td>&quot;Divorced&quot;</td><td>&quot;MARSTAT&quot;</td></tr><tr><td>5</td><td>&quot;Widowed&quot;</td><td>&quot;MARSTAT&quot;</td></tr><tr><td>-9</td><td>&quot;Missing/unknown/not collected/…</td><td>&quot;MARSTAT&quot;</td></tr></tbody></table></div>"
      ],
      "text/plain": [
       "shape: (10, 3)\n",
       "┌───────┬─────────────────────────────────┬───────────┐\n",
       "│ value ┆ label                           ┆ tablename │\n",
       "│ ---   ┆ ---                             ┆ ---       │\n",
       "│ i32   ┆ str                             ┆ str       │\n",
       "╞═══════╪═════════════════════════════════╪═══════════╡\n",
       "│ 3     ┆ Cuban or other specific Hispan… ┆ ETHNIC    │\n",
       "│ 4     ┆ Not of Hispanic or Latino orig… ┆ ETHNIC    │\n",
       "│ 5     ┆ Hispanic or Latino, specific o… ┆ ETHNIC    │\n",
       "│ -9    ┆ Missing/unknown/not collected/… ┆ ETHNIC    │\n",
       "│ 1     ┆ Never married                   ┆ MARSTAT   │\n",
       "│ 2     ┆ Now married                     ┆ MARSTAT   │\n",
       "│ 3     ┆ Separated                       ┆ MARSTAT   │\n",
       "│ 4     ┆ Divorced                        ┆ MARSTAT   │\n",
       "│ 5     ┆ Widowed                         ┆ MARSTAT   │\n",
       "│ -9    ┆ Missing/unknown/not collected/… ┆ MARSTAT   │\n",
       "└───────┴─────────────────────────────────┴───────────┘"
      ]
     },
     "execution_count": 17,
     "metadata": {},
     "output_type": "execute_result"
    }
   ],
   "source": [
    "dbcon = duckdb.connect('samhsa_data.db')\n",
    "mapp = pl.from_arrow(dbcon.execute(\"SELECT * FROM DemographicValueLabelMapping\").arrow())\n",
    "dbcon.close()\n",
    "mapp.tail(10)\n"
   ]
  },
  {
   "cell_type": "code",
   "execution_count": 9,
   "metadata": {},
   "outputs": [],
   "source": [
    "\n",
    "\n",
    "# Connect to the DuckDB database\n",
    "dbcon = duckdb.connect('samhsa_data.db')\n",
    "\n",
    "# Insert the value-label pairs for the variables on pages 17 to 20\n",
    "insert_values = '''\n",
    "INSERT INTO DemographicValueLabelMapping (value, label, tablename) VALUES\n",
    "-- EMPLOY\n",
    "(1, 'Full-time', 'EMPLOY'),\n",
    "(2, 'Part-time', 'EMPLOY'),\n",
    "(3, 'Unemployed', 'EMPLOY'),\n",
    "(4, 'Not in labor force', 'EMPLOY'),\n",
    "(-9, 'Missing/unknown/not collected/invalid', 'EMPLOY'),\n",
    "\n",
    "-- DETNLF\n",
    "(1, 'Homemaker', 'DETNLF'),\n",
    "(2, 'Student', 'DETNLF'),\n",
    "(3, 'Retired, disabled', 'DETNLF'),\n",
    "(4, 'Resident of institution', 'DETNLF'),\n",
    "(5, 'Other', 'DETNLF'),\n",
    "(-9, 'Missing/unknown/not collected/invalid', 'DETNLF'),\n",
    "\n",
    "-- PREG\n",
    "(1, 'Yes', 'PREG'),\n",
    "(2, 'No', 'PREG'),\n",
    "(-9, 'Missing/unknown/not collected/invalid', 'PREG'),\n",
    "\n",
    "-- VET\n",
    "(1, 'Yes', 'VET'),\n",
    "(2, 'No', 'VET'),\n",
    "(-9, 'Missing/unknown/not collected/invalid', 'VET');\n",
    "'''\n",
    "\n",
    "# Execute the insert statements\n",
    "dbcon.execute(insert_values)\n",
    "\n",
    "# Close the connection\n",
    "dbcon.close()\n"
   ]
  },
  {
   "cell_type": "code",
   "execution_count": null,
   "metadata": {},
   "outputs": [],
   "source": []
  },
  {
   "cell_type": "code",
   "execution_count": 14,
   "metadata": {},
   "outputs": [],
   "source": []
  },
  {
   "cell_type": "code",
   "execution_count": null,
   "metadata": {},
   "outputs": [],
   "source": []
  },
  {
   "cell_type": "code",
   "execution_count": 12,
   "metadata": {},
   "outputs": [],
   "source": [
    "# Store your credentials in a json locally | Don't forget to add this file to your gitignore\n",
    "\n",
    "credentials_path = 'credentials.json'\n",
    "\n",
    "# Read Credential\n",
    "with open(credentials_path, 'r') as file:\n",
    "    credentials = json.load(file)\n",
    "\n",
    "openai_api_key = credentials['openai_api_key']\n",
    "\n",
    "# Pass this key to configure OpenAI's API client\n",
    "client = OpenAI(api_key=openai_api_key)\n",
    "\n"
   ]
  },
  {
   "cell_type": "code",
   "execution_count": null,
   "metadata": {},
   "outputs": [],
   "source": [
    "from openai import OpenAI\n",
    "client = OpenAI()\n",
    "\n",
    "completion = client.chat.completions.create(\n",
    "  model=\"gpt-3.5-turbo\",\n",
    "  messages=[\n",
    "    {\"role\": \"system\", \"content\": \"You are a poetic assistant, skilled in explaining complex programming concepts with creative flair.\"},\n",
    "    {\"role\": \"user\", \"content\": \"Compose a poem that explains the concept of recursion in programming.\"}\n",
    "  ]\n",
    ")\n",
    "\n",
    "print(completion.choices[0].message)"
   ]
  }
 ],
 "metadata": {
  "kernelspec": {
   "display_name": "Python 3",
   "language": "python",
   "name": "python3"
  },
  "language_info": {
   "codemirror_mode": {
    "name": "ipython",
    "version": 3
   },
   "file_extension": ".py",
   "mimetype": "text/x-python",
   "name": "python",
   "nbconvert_exporter": "python",
   "pygments_lexer": "ipython3",
   "version": "3.12.4"
  }
 },
 "nbformat": 4,
 "nbformat_minor": 2
}

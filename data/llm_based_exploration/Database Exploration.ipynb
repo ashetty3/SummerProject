{
 "cells": [
  {
   "cell_type": "code",
   "execution_count": 37,
   "metadata": {},
   "outputs": [],
   "source": [
    "#!pip install ipykernel\n",
    "import duckdb\n",
    "import ibis\n",
    "import polars as pl\n",
    "from openai import OpenAI\n",
    "import json\n",
    "import pandas as pd\n",
    "from summarytools import dfSummary\n",
    "import matplotlib.pyplot as plt"
   ]
  },
  {
   "cell_type": "code",
   "execution_count": 25,
   "metadata": {},
   "outputs": [
    {
     "data": {
      "text/plain": [
       "['Demographics',\n",
       " 'EmploymentDetails',\n",
       " 'LegalInfo',\n",
       " 'SubstanceUseHistory',\n",
       " 'TreatmentInformation',\n",
       " 'ValueLabelMapping',\n",
       " 'teds_a_raw_2015_2019']"
      ]
     },
     "execution_count": 25,
     "metadata": {},
     "output_type": "execute_result"
    }
   ],
   "source": [
    "# Connect to your DuckDB database using Ibis\n",
    "con = ibis.duckdb.connect('samhsa_data.db')\n",
    "con.list_tables() # List the tables in the db\")\n"
   ]
  },
  {
   "cell_type": "markdown",
   "metadata": {},
   "source": [
    "#### Data Ingestion : Creating Polars DataFrame \n",
    "\n",
    "We could use two apporaches here. USe a simple ibis connection to excute the select query and turn the resulting pandas frame into polars. \n",
    "OR use duckdb connection and arrow to input directly into polars without a panda - polar connversion. Approach 2  appears to be marginally faster for this amount of data. So I would be going ahead with that for the future tables. \n"
   ]
  },
  {
   "cell_type": "code",
   "execution_count": 26,
   "metadata": {},
   "outputs": [],
   "source": [
    "# Ibis method\n",
    "demographics_pd = con.table('Demographics').execute() #you can add limit(100) before excecute to sample this data\n",
    "# And then convert to polars \n",
    "demo_pl = pl.from_pandas(demographics_pd)\n"
   ]
  },
  {
   "cell_type": "code",
   "execution_count": 27,
   "metadata": {},
   "outputs": [
    {
     "data": {
      "text/html": [
       "<div><style>\n",
       ".dataframe > thead > tr,\n",
       ".dataframe > tbody > tr {\n",
       "  text-align: right;\n",
       "  white-space: pre-wrap;\n",
       "}\n",
       "</style>\n",
       "<small>shape: (2, 14)</small><table border=\"1\" class=\"dataframe\"><thead><tr><th>CASEID</th><th>ADMYR</th><th>AGE</th><th>GENDER</th><th>RACE</th><th>ETHNIC</th><th>MARSTAT</th><th>EDUC</th><th>PREG</th><th>VET</th><th>STFIPS</th><th>CBSA2010</th><th>REGION</th><th>DIVISION</th></tr><tr><td>i64</td><td>i64</td><td>i64</td><td>i64</td><td>i64</td><td>i64</td><td>i64</td><td>i64</td><td>i64</td><td>i64</td><td>i64</td><td>i64</td><td>i64</td><td>i64</td></tr></thead><tbody><tr><td>20151524993</td><td>2015</td><td>6</td><td>2</td><td>5</td><td>3</td><td>4</td><td>2</td><td>1</td><td>2</td><td>2</td><td>-9</td><td>4</td><td>9</td></tr><tr><td>20151449532</td><td>2015</td><td>7</td><td>2</td><td>1</td><td>4</td><td>2</td><td>3</td><td>2</td><td>2</td><td>2</td><td>-9</td><td>4</td><td>9</td></tr></tbody></table></div>"
      ],
      "text/plain": [
       "shape: (2, 14)\n",
       "┌─────────────┬───────┬─────┬────────┬───┬────────┬──────────┬────────┬──────────┐\n",
       "│ CASEID      ┆ ADMYR ┆ AGE ┆ GENDER ┆ … ┆ STFIPS ┆ CBSA2010 ┆ REGION ┆ DIVISION │\n",
       "│ ---         ┆ ---   ┆ --- ┆ ---    ┆   ┆ ---    ┆ ---      ┆ ---    ┆ ---      │\n",
       "│ i64         ┆ i64   ┆ i64 ┆ i64    ┆   ┆ i64    ┆ i64      ┆ i64    ┆ i64      │\n",
       "╞═════════════╪═══════╪═════╪════════╪═══╪════════╪══════════╪════════╪══════════╡\n",
       "│ 20151524993 ┆ 2015  ┆ 6   ┆ 2      ┆ … ┆ 2      ┆ -9       ┆ 4      ┆ 9        │\n",
       "│ 20151449532 ┆ 2015  ┆ 7   ┆ 2      ┆ … ┆ 2      ┆ -9       ┆ 4      ┆ 9        │\n",
       "└─────────────┴───────┴─────┴────────┴───┴────────┴──────────┴────────┴──────────┘"
      ]
     },
     "execution_count": 27,
     "metadata": {},
     "output_type": "execute_result"
    }
   ],
   "source": [
    "demo_pl.head(2)\n",
    "#demo_pl.columns"
   ]
  },
  {
   "cell_type": "code",
   "execution_count": 28,
   "metadata": {},
   "outputs": [],
   "source": [
    "# DuckDB Method to Load database table \n",
    "dbcon = duckdb.connect('samhsa_data.db')\n",
    "demo = pl.from_arrow(dbcon.execute(\"SELECT * FROM Demographics\").arrow())\n",
    "dbcon.close()"
   ]
  },
  {
   "cell_type": "code",
   "execution_count": 29,
   "metadata": {},
   "outputs": [
    {
     "data": {
      "text/html": [
       "<div><style>\n",
       ".dataframe > thead > tr,\n",
       ".dataframe > tbody > tr {\n",
       "  text-align: right;\n",
       "  white-space: pre-wrap;\n",
       "}\n",
       "</style>\n",
       "<small>shape: (2, 14)</small><table border=\"1\" class=\"dataframe\"><thead><tr><th>CASEID</th><th>ADMYR</th><th>AGE</th><th>GENDER</th><th>RACE</th><th>ETHNIC</th><th>MARSTAT</th><th>EDUC</th><th>PREG</th><th>VET</th><th>STFIPS</th><th>CBSA2010</th><th>REGION</th><th>DIVISION</th></tr><tr><td>i64</td><td>i64</td><td>i64</td><td>i64</td><td>i64</td><td>i64</td><td>i64</td><td>i64</td><td>i64</td><td>i64</td><td>i64</td><td>i64</td><td>i64</td><td>i64</td></tr></thead><tbody><tr><td>20151524993</td><td>2015</td><td>6</td><td>2</td><td>5</td><td>3</td><td>4</td><td>2</td><td>1</td><td>2</td><td>2</td><td>-9</td><td>4</td><td>9</td></tr><tr><td>20151449532</td><td>2015</td><td>7</td><td>2</td><td>1</td><td>4</td><td>2</td><td>3</td><td>2</td><td>2</td><td>2</td><td>-9</td><td>4</td><td>9</td></tr></tbody></table></div>"
      ],
      "text/plain": [
       "shape: (2, 14)\n",
       "┌─────────────┬───────┬─────┬────────┬───┬────────┬──────────┬────────┬──────────┐\n",
       "│ CASEID      ┆ ADMYR ┆ AGE ┆ GENDER ┆ … ┆ STFIPS ┆ CBSA2010 ┆ REGION ┆ DIVISION │\n",
       "│ ---         ┆ ---   ┆ --- ┆ ---    ┆   ┆ ---    ┆ ---      ┆ ---    ┆ ---      │\n",
       "│ i64         ┆ i64   ┆ i64 ┆ i64    ┆   ┆ i64    ┆ i64      ┆ i64    ┆ i64      │\n",
       "╞═════════════╪═══════╪═════╪════════╪═══╪════════╪══════════╪════════╪══════════╡\n",
       "│ 20151524993 ┆ 2015  ┆ 6   ┆ 2      ┆ … ┆ 2      ┆ -9       ┆ 4      ┆ 9        │\n",
       "│ 20151449532 ┆ 2015  ┆ 7   ┆ 2      ┆ … ┆ 2      ┆ -9       ┆ 4      ┆ 9        │\n",
       "└─────────────┴───────┴─────┴────────┴───┴────────┴──────────┴────────┴──────────┘"
      ]
     },
     "execution_count": 29,
     "metadata": {},
     "output_type": "execute_result"
    }
   ],
   "source": [
    "demo.head(2)\n",
    "#pl_df.columns"
   ]
  },
  {
   "cell_type": "code",
   "execution_count": 30,
   "metadata": {},
   "outputs": [],
   "source": [
    "# Ingest all the other tables into polars dfs\n",
    "dbcon = duckdb.connect('samhsa_data.db')\n",
    "emp_det = pl.from_arrow(dbcon.execute(\"SELECT * FROM EmploymentDetails\").arrow())\n",
    "legal_info = pl.from_arrow(dbcon.execute(\"SELECT * FROM LegalInfo\").arrow())\n",
    "subs_hist = pl.from_arrow(dbcon.execute(\"SELECT * FROM SubstanceUseHistory\").arrow())\n",
    "treat_info = pl.from_arrow(dbcon.execute(\"SELECT * FROM TreatmentInformation\").arrow())\n",
    "value_label = pl.from_arrow(dbcon.execute(\"SELECT * FROM ValueLabelMapping\").arrow())\n",
    "dbcon.close()\n"
   ]
  },
  {
   "cell_type": "code",
   "execution_count": 31,
   "metadata": {},
   "outputs": [
    {
     "data": {
      "text/html": [
       "<div><style>\n",
       ".dataframe > thead > tr,\n",
       ".dataframe > tbody > tr {\n",
       "  text-align: right;\n",
       "  white-space: pre-wrap;\n",
       "}\n",
       "</style>\n",
       "<small>shape: (10, 5)</small><table border=\"1\" class=\"dataframe\"><thead><tr><th>id</th><th>value</th><th>label</th><th>tablename</th><th>date_added</th></tr><tr><td>i32</td><td>i32</td><td>str</td><td>str</td><td>date</td></tr></thead><tbody><tr><td>45</td><td>3</td><td>&quot;Retired, disabled&quot;</td><td>&quot;DETNLF&quot;</td><td>2024-07-16</td></tr><tr><td>46</td><td>4</td><td>&quot;Resident of institution&quot;</td><td>&quot;DETNLF&quot;</td><td>2024-07-16</td></tr><tr><td>47</td><td>5</td><td>&quot;Other&quot;</td><td>&quot;DETNLF&quot;</td><td>2024-07-16</td></tr><tr><td>48</td><td>-9</td><td>&quot;Missing/unknown/not collected/…</td><td>&quot;DETNLF&quot;</td><td>2024-07-16</td></tr><tr><td>49</td><td>1</td><td>&quot;Yes&quot;</td><td>&quot;PREG&quot;</td><td>2024-07-16</td></tr><tr><td>50</td><td>2</td><td>&quot;No&quot;</td><td>&quot;PREG&quot;</td><td>2024-07-16</td></tr><tr><td>51</td><td>-9</td><td>&quot;Missing/unknown/not collected/…</td><td>&quot;PREG&quot;</td><td>2024-07-16</td></tr><tr><td>52</td><td>1</td><td>&quot;Yes&quot;</td><td>&quot;VET&quot;</td><td>2024-07-16</td></tr><tr><td>53</td><td>2</td><td>&quot;No&quot;</td><td>&quot;VET&quot;</td><td>2024-07-16</td></tr><tr><td>54</td><td>-9</td><td>&quot;Missing/unknown/not collected/…</td><td>&quot;VET&quot;</td><td>2024-07-16</td></tr></tbody></table></div>"
      ],
      "text/plain": [
       "shape: (10, 5)\n",
       "┌─────┬───────┬─────────────────────────────────┬───────────┬────────────┐\n",
       "│ id  ┆ value ┆ label                           ┆ tablename ┆ date_added │\n",
       "│ --- ┆ ---   ┆ ---                             ┆ ---       ┆ ---        │\n",
       "│ i32 ┆ i32   ┆ str                             ┆ str       ┆ date       │\n",
       "╞═════╪═══════╪═════════════════════════════════╪═══════════╪════════════╡\n",
       "│ 45  ┆ 3     ┆ Retired, disabled               ┆ DETNLF    ┆ 2024-07-16 │\n",
       "│ 46  ┆ 4     ┆ Resident of institution         ┆ DETNLF    ┆ 2024-07-16 │\n",
       "│ 47  ┆ 5     ┆ Other                           ┆ DETNLF    ┆ 2024-07-16 │\n",
       "│ 48  ┆ -9    ┆ Missing/unknown/not collected/… ┆ DETNLF    ┆ 2024-07-16 │\n",
       "│ 49  ┆ 1     ┆ Yes                             ┆ PREG      ┆ 2024-07-16 │\n",
       "│ 50  ┆ 2     ┆ No                              ┆ PREG      ┆ 2024-07-16 │\n",
       "│ 51  ┆ -9    ┆ Missing/unknown/not collected/… ┆ PREG      ┆ 2024-07-16 │\n",
       "│ 52  ┆ 1     ┆ Yes                             ┆ VET       ┆ 2024-07-16 │\n",
       "│ 53  ┆ 2     ┆ No                              ┆ VET       ┆ 2024-07-16 │\n",
       "│ 54  ┆ -9    ┆ Missing/unknown/not collected/… ┆ VET       ┆ 2024-07-16 │\n",
       "└─────┴───────┴─────────────────────────────────┴───────────┴────────────┘"
      ]
     },
     "execution_count": 31,
     "metadata": {},
     "output_type": "execute_result"
    }
   ],
   "source": [
    "# Checking if update on value_label worked\n",
    "value_label.tail(10)\n"
   ]
  },
  {
   "cell_type": "markdown",
   "metadata": {},
   "source": [
    "#### Viewing high level summary of tables \n",
    "\n",
    "Visualize genral stats for columns across tables using SummaryTools and Describe Functions"
   ]
  },
  {
   "cell_type": "markdown",
   "metadata": {},
   "source": [
    "##### Building custom function to do a pandas profiling type analysis with Polars"
   ]
  },
  {
   "cell_type": "code",
   "execution_count": 45,
   "metadata": {},
   "outputs": [],
   "source": [
    "\n",
    "def eda_polars(df: pl.DataFrame):\n",
    "    # Display the first few rows\n",
    "    print(\"First few rows of the DataFrame:\")\n",
    "    print(df.head())\n",
    "    print(\"\\n\")\n",
    "    \n",
    "    # Summary statistics\n",
    "    print(\"Summary Statistics:\")\n",
    "    summary = df.describe()\n",
    "    print(summary)\n",
    "    print(\"\\n\")\n",
    "    \n",
    "    # Column names and types\n",
    "    print(\"Column Names and Types:\")\n",
    "    print(df.schema)\n",
    "    print(\"\\n\")\n",
    "    \n",
    "    # Distribution of categorical features\n",
    "    print(\"Distribution of Categorical Features:\")\n",
    "    for col in df.columns:\n",
    "        if df[col].dtype == pl.Utf8:\n",
    "            print(f\"\\nValue counts for {col}:\")\n",
    "            print(df.select(pl.col(col).value_counts()))\n",
    "    print(\"\\n\")\n",
    "    \n",
    "    # Missing values\n",
    "    print(\"Missing Values:\")\n",
    "    missing_values = df.null_count()\n",
    "    print(missing_values)\n",
    "    print(\"\\n\")\n",
    "    \n",
    "    # Correlation matrix for numerical features\n",
    "    print(\"Correlation Matrix:\")\n",
    "    numeric_cols = [col for col in df.columns if df[col].dtype in [pl.Int64, pl.Float64]]\n",
    "    if numeric_cols:\n",
    "        corr_matrix = df.select(numeric_cols).corr()\n",
    "        print(corr_matrix)\n",
    "        print(\"\\n\")\n",
    "    \n",
    " \n",
    "\n"
   ]
  },
  {
   "cell_type": "code",
   "execution_count": 48,
   "metadata": {},
   "outputs": [
    {
     "name": "stdout",
     "output_type": "stream",
     "text": [
      "First few rows of the DataFrame:\n",
      "shape: (5, 13)\n",
      "┌─────────────┬───────┬──────────┬─────────┬───┬─────────┬─────────┬─────────┬─────────┐\n",
      "│ CASEID      ┆ ADMYR ┆ SERVICES ┆ METHUSE ┆ … ┆ DSMCRIT ┆ ALCDRUG ┆ HLTHINS ┆ PSYPROB │\n",
      "│ ---         ┆ ---   ┆ ---      ┆ ---     ┆   ┆ ---     ┆ ---     ┆ ---     ┆ ---     │\n",
      "│ i64         ┆ i64   ┆ i64      ┆ i64     ┆   ┆ i64     ┆ i64     ┆ i64     ┆ i64     │\n",
      "╞═════════════╪═══════╪══════════╪═════════╪═══╪═════════╪═════════╪═════════╪═════════╡\n",
      "│ 20151524993 ┆ 2015  ┆ 7        ┆ 2       ┆ … ┆ 4       ┆ 1       ┆ 2       ┆ 1       │\n",
      "│ 20151449532 ┆ 2015  ┆ 7        ┆ 2       ┆ … ┆ 5       ┆ 2       ┆ 4       ┆ 2       │\n",
      "│ 20151431263 ┆ 2015  ┆ 7        ┆ 2       ┆ … ┆ 13      ┆ 2       ┆ 4       ┆ 2       │\n",
      "│ 20151401765 ┆ 2015  ┆ 6        ┆ 2       ┆ … ┆ 4       ┆ 1       ┆ 2       ┆ 2       │\n",
      "│ 20151461771 ┆ 2015  ┆ 7        ┆ 2       ┆ … ┆ 5       ┆ 2       ┆ 4       ┆ 1       │\n",
      "└─────────────┴───────┴──────────┴─────────┴───┴─────────┴─────────┴─────────┴─────────┘\n",
      "\n",
      "\n",
      "Summary Statistics:\n",
      "shape: (9, 14)\n",
      "┌───────────┬───────────┬───────────┬───────────┬───┬───────────┬───────────┬───────────┬──────────┐\n",
      "│ statistic ┆ CASEID    ┆ ADMYR     ┆ SERVICES  ┆ … ┆ DSMCRIT   ┆ ALCDRUG   ┆ HLTHINS   ┆ PSYPROB  │\n",
      "│ ---       ┆ ---       ┆ ---       ┆ ---       ┆   ┆ ---       ┆ ---       ┆ ---       ┆ ---      │\n",
      "│ str       ┆ f64       ┆ f64       ┆ f64       ┆   ┆ f64       ┆ f64       ┆ f64       ┆ f64      │\n",
      "╞═══════════╪═══════════╪═══════════╪═══════════╪═══╪═══════════╪═══════════╪═══════════╪══════════╡\n",
      "│ count     ┆ 9.414284e ┆ 9.414284e ┆ 9.414284e ┆ … ┆ 9.414284e ┆ 9.414284e ┆ 9.414284e ┆ 9.414284 │\n",
      "│           ┆ 6         ┆ 6         ┆ 6         ┆   ┆ 6         ┆ 6         ┆ 6         ┆ e6       │\n",
      "│ null_coun ┆ 0.0       ┆ 0.0       ┆ 0.0       ┆ … ┆ 0.0       ┆ 0.0       ┆ 0.0       ┆ 0.0      │\n",
      "│ t         ┆           ┆           ┆           ┆   ┆           ┆           ┆           ┆          │\n",
      "│ mean      ┆ 2.0172e10 ┆ 2017.0610 ┆ 5.439588  ┆ … ┆ 0.866386  ┆ 1.988044  ┆ -3.573978 ┆ -0.30643 │\n",
      "│           ┆           ┆ 68        ┆           ┆   ┆           ┆           ┆           ┆ 8        │\n",
      "│ std       ┆ 1.3916e7  ┆ 1.386547  ┆ 2.02581   ┆ … ┆ 8.29082   ┆ 0.801524  ┆ 5.876307  ┆ 4.092478 │\n",
      "│ min       ┆ 2.0150e10 ┆ 2015.0    ┆ 1.0       ┆ … ┆ -9.0      ┆ 0.0       ┆ -9.0      ┆ -9.0     │\n",
      "│ 25%       ┆ 2.0161e10 ┆ 2016.0    ┆ 4.0       ┆ … ┆ -9.0      ┆ 2.0       ┆ -9.0      ┆ 1.0      │\n",
      "│ 50%       ┆ 2.0171e10 ┆ 2017.0    ┆ 7.0       ┆ … ┆ 4.0       ┆ 2.0       ┆ -9.0      ┆ 1.0      │\n",
      "│ 75%       ┆ 2.0182e10 ┆ 2018.0    ┆ 7.0       ┆ … ┆ 6.0       ┆ 3.0       ┆ 2.0       ┆ 2.0      │\n",
      "│ max       ┆ 2.0192e10 ┆ 2019.0    ┆ 8.0       ┆ … ┆ 19.0      ┆ 3.0       ┆ 4.0       ┆ 2.0      │\n",
      "└───────────┴───────────┴───────────┴───────────┴───┴───────────┴───────────┴───────────┴──────────┘\n",
      "\n",
      "\n",
      "Column Names and Types:\n",
      "Schema({'CASEID': Int64, 'ADMYR': Int64, 'SERVICES': Int64, 'METHUSE': Int64, 'PRIMPAY': Int64, 'DAYWAIT': Int64, 'PSOURCE': Int64, 'NOPRIOR': Int64, 'FREQ_ATND_SELF_HELP': Int64, 'DSMCRIT': Int64, 'ALCDRUG': Int64, 'HLTHINS': Int64, 'PSYPROB': Int64})\n",
      "\n",
      "\n",
      "Distribution of Categorical Features:\n",
      "\n",
      "\n",
      "Missing Values:\n",
      "shape: (1, 13)\n",
      "┌────────┬───────┬──────────┬─────────┬───┬─────────┬─────────┬─────────┬─────────┐\n",
      "│ CASEID ┆ ADMYR ┆ SERVICES ┆ METHUSE ┆ … ┆ DSMCRIT ┆ ALCDRUG ┆ HLTHINS ┆ PSYPROB │\n",
      "│ ---    ┆ ---   ┆ ---      ┆ ---     ┆   ┆ ---     ┆ ---     ┆ ---     ┆ ---     │\n",
      "│ u32    ┆ u32   ┆ u32      ┆ u32     ┆   ┆ u32     ┆ u32     ┆ u32     ┆ u32     │\n",
      "╞════════╪═══════╪══════════╪═════════╪═══╪═════════╪═════════╪═════════╪═════════╡\n",
      "│ 0      ┆ 0     ┆ 0        ┆ 0       ┆ … ┆ 0       ┆ 0       ┆ 0       ┆ 0       │\n",
      "└────────┴───────┴──────────┴─────────┴───┴─────────┴─────────┴─────────┴─────────┘\n",
      "\n",
      "\n",
      "Correlation Matrix:\n",
      "shape: (13, 13)\n",
      "┌───────────┬───────────┬───────────┬───────────┬───┬───────────┬───────────┬──────────┬───────────┐\n",
      "│ CASEID    ┆ ADMYR     ┆ SERVICES  ┆ METHUSE   ┆ … ┆ DSMCRIT   ┆ ALCDRUG   ┆ HLTHINS  ┆ PSYPROB   │\n",
      "│ ---       ┆ ---       ┆ ---       ┆ ---       ┆   ┆ ---       ┆ ---       ┆ ---      ┆ ---       │\n",
      "│ f64       ┆ f64       ┆ f64       ┆ f64       ┆   ┆ f64       ┆ f64       ┆ f64      ┆ f64       │\n",
      "╞═══════════╪═══════════╪═══════════╪═══════════╪═══╪═══════════╪═══════════╪══════════╪═══════════╡\n",
      "│ 1.0       ┆ 0.999221  ┆ 0.037275  ┆ -0.089423 ┆ … ┆ 0.224957  ┆ -0.067874 ┆ 0.081561 ┆ 0.046749  │\n",
      "│ 0.999221  ┆ 1.0       ┆ 0.035693  ┆ -0.092748 ┆ … ┆ 0.226785  ┆ -0.062621 ┆ 0.079132 ┆ 0.044937  │\n",
      "│ 0.037275  ┆ 0.035693  ┆ 1.0       ┆ -0.026324 ┆ … ┆ 0.092441  ┆ -0.015479 ┆ 0.00675  ┆ 0.194249  │\n",
      "│ -0.089423 ┆ -0.092748 ┆ -0.026324 ┆ 1.0       ┆ … ┆ -0.078027 ┆ 0.053405  ┆ 0.015428 ┆ -0.067394 │\n",
      "│ 0.065975  ┆ 0.062682  ┆ 0.099391  ┆ -0.028371 ┆ … ┆ 0.205023  ┆ -0.056573 ┆ 0.693272 ┆ 0.126017  │\n",
      "│ …         ┆ …         ┆ …         ┆ …         ┆ … ┆ …         ┆ …         ┆ …        ┆ …         │\n",
      "│ 0.036956  ┆ 0.044968  ┆ 0.143815  ┆ 0.076098  ┆ … ┆ 0.112553  ┆ 0.154056  ┆ 0.083803 ┆ 0.193809  │\n",
      "│ 0.224957  ┆ 0.226785  ┆ 0.092441  ┆ -0.078027 ┆ … ┆ 1.0       ┆ 0.013487  ┆ 0.107879 ┆ 0.217042  │\n",
      "│ -0.067874 ┆ -0.062621 ┆ -0.015479 ┆ 0.053405  ┆ … ┆ 0.013487  ┆ 1.0       ┆ -0.03124 ┆ 0.012771  │\n",
      "│ 0.081561  ┆ 0.079132  ┆ 0.00675   ┆ 0.015428  ┆ … ┆ 0.107879  ┆ -0.03124  ┆ 1.0      ┆ 0.192715  │\n",
      "│ 0.046749  ┆ 0.044937  ┆ 0.194249  ┆ -0.067394 ┆ … ┆ 0.217042  ┆ 0.012771  ┆ 0.192715 ┆ 1.0       │\n",
      "└───────────┴───────────┴───────────┴───────────┴───┴───────────┴───────────┴──────────┴───────────┘\n",
      "\n",
      "\n"
     ]
    }
   ],
   "source": [
    "# Example data\n",
    "eda_polars(treat_info)\n"
   ]
  },
  {
   "cell_type": "code",
   "execution_count": 14,
   "metadata": {},
   "outputs": [],
   "source": []
  },
  {
   "cell_type": "code",
   "execution_count": null,
   "metadata": {},
   "outputs": [],
   "source": []
  },
  {
   "cell_type": "code",
   "execution_count": 12,
   "metadata": {},
   "outputs": [],
   "source": [
    "# Store your credentials in a json locally | Don't forget to add this file to your gitignore\n",
    "\n",
    "credentials_path = 'credentials.json'\n",
    "\n",
    "# Read Credential\n",
    "with open(credentials_path, 'r') as file:\n",
    "    credentials = json.load(file)\n",
    "\n",
    "openai_api_key = credentials['openai_api_key']\n",
    "\n",
    "# Pass this key to configure OpenAI's API client\n",
    "client = OpenAI(api_key=openai_api_key)\n",
    "\n"
   ]
  },
  {
   "cell_type": "code",
   "execution_count": null,
   "metadata": {},
   "outputs": [],
   "source": [
    "from openai import OpenAI\n",
    "client = OpenAI()\n",
    "\n",
    "completion = client.chat.completions.create(\n",
    "  model=\"gpt-3.5-turbo\",\n",
    "  messages=[\n",
    "    {\"role\": \"system\", \"content\": \"You are a poetic assistant, skilled in explaining complex programming concepts with creative flair.\"},\n",
    "    {\"role\": \"user\", \"content\": \"Compose a poem that explains the concept of recursion in programming.\"}\n",
    "  ]\n",
    ")\n",
    "\n",
    "print(completion.choices[0].message)"
   ]
  }
 ],
 "metadata": {
  "kernelspec": {
   "display_name": "Python 3",
   "language": "python",
   "name": "python3"
  },
  "language_info": {
   "codemirror_mode": {
    "name": "ipython",
    "version": 3
   },
   "file_extension": ".py",
   "mimetype": "text/x-python",
   "name": "python",
   "nbconvert_exporter": "python",
   "pygments_lexer": "ipython3",
   "version": "3.12.4"
  }
 },
 "nbformat": 4,
 "nbformat_minor": 2
}

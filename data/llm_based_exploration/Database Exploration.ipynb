{
 "cells": [
  {
   "cell_type": "code",
   "execution_count": 1,
   "metadata": {},
   "outputs": [],
   "source": [
    "#!pip install ipykernel\n",
    "import duckdb\n",
    "import ibis\n",
    "import polars as pl\n",
    "from openai import OpenAI\n",
    "import json\n",
    "import pandas as pd"
   ]
  },
  {
   "cell_type": "code",
   "execution_count": 3,
   "metadata": {},
   "outputs": [
    {
     "data": {
      "text/plain": [
       "['Demographics',\n",
       " 'EmploymentDetails',\n",
       " 'LegalInfo',\n",
       " 'SubstanceUseHistory',\n",
       " 'TreatmentInformation',\n",
       " 'teds_a_raw_2015_2019']"
      ]
     },
     "execution_count": 3,
     "metadata": {},
     "output_type": "execute_result"
    }
   ],
   "source": [
    "# Connect to your DuckDB database using Ibis\n",
    "con = ibis.duckdb.connect('samhsa_data.db')\n",
    "dbcon = duckdb.connect('samhsa_data.db')\n",
    "con.list_tables() # List the tables in the db\")"
   ]
  },
  {
   "cell_type": "markdown",
   "metadata": {},
   "source": [
    "#### Data Ingestion : Creating Polars DataFrame \n",
    "\n",
    "We could use two apporaches here. USe a simple ibis connection to excute the select query and turn the resulting pandas frame into polars. \n",
    "OR use duckdb connection and arrow to input directly into polars without a panda - polar connversion. Approach 2  appears to be marginally faster for this amount of data. So I would be going ahead with that for the future tables. \n"
   ]
  },
  {
   "cell_type": "code",
   "execution_count": 12,
   "metadata": {},
   "outputs": [],
   "source": [
    "# Ibis method\n",
    "demographics_pd = con.table('Demographics').execute() #you can add limit(100) before excecute to sample this data\n",
    "# And then convert to polars \n",
    "demo_pl = pl.from_pandas(demographics_pd)\n"
   ]
  },
  {
   "cell_type": "code",
   "execution_count": null,
   "metadata": {},
   "outputs": [
    {
     "data": {
      "text/html": [
       "<div><style>\n",
       ".dataframe > thead > tr,\n",
       ".dataframe > tbody > tr {\n",
       "  text-align: right;\n",
       "  white-space: pre-wrap;\n",
       "}\n",
       "</style>\n",
       "<small>shape: (2, 14)</small><table border=\"1\" class=\"dataframe\"><thead><tr><th>CASEID</th><th>ADMYR</th><th>AGE</th><th>GENDER</th><th>RACE</th><th>ETHNIC</th><th>MARSTAT</th><th>EDUC</th><th>PREG</th><th>VET</th><th>STFIPS</th><th>CBSA2010</th><th>REGION</th><th>DIVISION</th></tr><tr><td>i64</td><td>i64</td><td>i64</td><td>i64</td><td>i64</td><td>i64</td><td>i64</td><td>i64</td><td>i64</td><td>i64</td><td>i64</td><td>i64</td><td>i64</td><td>i64</td></tr></thead><tbody><tr><td>20151524993</td><td>2015</td><td>6</td><td>2</td><td>5</td><td>3</td><td>4</td><td>2</td><td>1</td><td>2</td><td>2</td><td>-9</td><td>4</td><td>9</td></tr><tr><td>20151449532</td><td>2015</td><td>7</td><td>2</td><td>1</td><td>4</td><td>2</td><td>3</td><td>2</td><td>2</td><td>2</td><td>-9</td><td>4</td><td>9</td></tr></tbody></table></div>"
      ],
      "text/plain": [
       "shape: (2, 14)\n",
       "┌─────────────┬───────┬─────┬────────┬───┬────────┬──────────┬────────┬──────────┐\n",
       "│ CASEID      ┆ ADMYR ┆ AGE ┆ GENDER ┆ … ┆ STFIPS ┆ CBSA2010 ┆ REGION ┆ DIVISION │\n",
       "│ ---         ┆ ---   ┆ --- ┆ ---    ┆   ┆ ---    ┆ ---      ┆ ---    ┆ ---      │\n",
       "│ i64         ┆ i64   ┆ i64 ┆ i64    ┆   ┆ i64    ┆ i64      ┆ i64    ┆ i64      │\n",
       "╞═════════════╪═══════╪═════╪════════╪═══╪════════╪══════════╪════════╪══════════╡\n",
       "│ 20151524993 ┆ 2015  ┆ 6   ┆ 2      ┆ … ┆ 2      ┆ -9       ┆ 4      ┆ 9        │\n",
       "│ 20151449532 ┆ 2015  ┆ 7   ┆ 2      ┆ … ┆ 2      ┆ -9       ┆ 4      ┆ 9        │\n",
       "└─────────────┴───────┴─────┴────────┴───┴────────┴──────────┴────────┴──────────┘"
      ]
     },
     "metadata": {},
     "output_type": "display_data"
    }
   ],
   "source": [
    "demo_pl.head(2)\n",
    "#demo_pl.columns"
   ]
  },
  {
   "cell_type": "code",
   "execution_count": 13,
   "metadata": {},
   "outputs": [],
   "source": [
    "# DuckDB Method to Load database table \n",
    "dbcon = duckdb.connect('samhsa_data.db')\n",
    "pl_df = pl.from_arrow(dbcon.execute(\"SELECT * FROM Demographics\").arrow())\n",
    "dbcon.close()"
   ]
  },
  {
   "cell_type": "code",
   "execution_count": 21,
   "metadata": {},
   "outputs": [
    {
     "data": {
      "text/html": [
       "<div><style>\n",
       ".dataframe > thead > tr,\n",
       ".dataframe > tbody > tr {\n",
       "  text-align: right;\n",
       "  white-space: pre-wrap;\n",
       "}\n",
       "</style>\n",
       "<small>shape: (2, 14)</small><table border=\"1\" class=\"dataframe\"><thead><tr><th>CASEID</th><th>ADMYR</th><th>AGE</th><th>GENDER</th><th>RACE</th><th>ETHNIC</th><th>MARSTAT</th><th>EDUC</th><th>PREG</th><th>VET</th><th>STFIPS</th><th>CBSA2010</th><th>REGION</th><th>DIVISION</th></tr><tr><td>i64</td><td>i64</td><td>i64</td><td>i64</td><td>i64</td><td>i64</td><td>i64</td><td>i64</td><td>i64</td><td>i64</td><td>i64</td><td>i64</td><td>i64</td><td>i64</td></tr></thead><tbody><tr><td>20151524993</td><td>2015</td><td>6</td><td>2</td><td>5</td><td>3</td><td>4</td><td>2</td><td>1</td><td>2</td><td>2</td><td>-9</td><td>4</td><td>9</td></tr><tr><td>20151449532</td><td>2015</td><td>7</td><td>2</td><td>1</td><td>4</td><td>2</td><td>3</td><td>2</td><td>2</td><td>2</td><td>-9</td><td>4</td><td>9</td></tr></tbody></table></div>"
      ],
      "text/plain": [
       "shape: (2, 14)\n",
       "┌─────────────┬───────┬─────┬────────┬───┬────────┬──────────┬────────┬──────────┐\n",
       "│ CASEID      ┆ ADMYR ┆ AGE ┆ GENDER ┆ … ┆ STFIPS ┆ CBSA2010 ┆ REGION ┆ DIVISION │\n",
       "│ ---         ┆ ---   ┆ --- ┆ ---    ┆   ┆ ---    ┆ ---      ┆ ---    ┆ ---      │\n",
       "│ i64         ┆ i64   ┆ i64 ┆ i64    ┆   ┆ i64    ┆ i64      ┆ i64    ┆ i64      │\n",
       "╞═════════════╪═══════╪═════╪════════╪═══╪════════╪══════════╪════════╪══════════╡\n",
       "│ 20151524993 ┆ 2015  ┆ 6   ┆ 2      ┆ … ┆ 2      ┆ -9       ┆ 4      ┆ 9        │\n",
       "│ 20151449532 ┆ 2015  ┆ 7   ┆ 2      ┆ … ┆ 2      ┆ -9       ┆ 4      ┆ 9        │\n",
       "└─────────────┴───────┴─────┴────────┴───┴────────┴──────────┴────────┴──────────┘"
      ]
     },
     "execution_count": 21,
     "metadata": {},
     "output_type": "execute_result"
    }
   ],
   "source": [
    "pl_df.head(2)\n",
    "#pl_df.columns"
   ]
  },
  {
   "cell_type": "code",
   "execution_count": null,
   "metadata": {},
   "outputs": [],
   "source": []
  },
  {
   "cell_type": "code",
   "execution_count": 8,
   "metadata": {},
   "outputs": [
    {
     "name": "stdout",
     "output_type": "stream",
     "text": [
      "(100, 14)\n"
     ]
    },
    {
     "data": {
      "text/html": [
       "<div>\n",
       "<style scoped>\n",
       "    .dataframe tbody tr th:only-of-type {\n",
       "        vertical-align: middle;\n",
       "    }\n",
       "\n",
       "    .dataframe tbody tr th {\n",
       "        vertical-align: top;\n",
       "    }\n",
       "\n",
       "    .dataframe thead th {\n",
       "        text-align: right;\n",
       "    }\n",
       "</style>\n",
       "<table border=\"1\" class=\"dataframe\">\n",
       "  <thead>\n",
       "    <tr style=\"text-align: right;\">\n",
       "      <th></th>\n",
       "      <th>0</th>\n",
       "      <th>1</th>\n",
       "      <th>2</th>\n",
       "      <th>3</th>\n",
       "      <th>4</th>\n",
       "      <th>5</th>\n",
       "      <th>6</th>\n",
       "      <th>7</th>\n",
       "      <th>8</th>\n",
       "      <th>9</th>\n",
       "      <th>10</th>\n",
       "      <th>11</th>\n",
       "      <th>12</th>\n",
       "      <th>13</th>\n",
       "    </tr>\n",
       "  </thead>\n",
       "  <tbody>\n",
       "    <tr>\n",
       "      <th>0</th>\n",
       "      <td>20151524993</td>\n",
       "      <td>2015</td>\n",
       "      <td>6</td>\n",
       "      <td>2</td>\n",
       "      <td>5</td>\n",
       "      <td>3</td>\n",
       "      <td>4</td>\n",
       "      <td>2</td>\n",
       "      <td>1</td>\n",
       "      <td>2</td>\n",
       "      <td>2</td>\n",
       "      <td>-9</td>\n",
       "      <td>4</td>\n",
       "      <td>9</td>\n",
       "    </tr>\n",
       "    <tr>\n",
       "      <th>1</th>\n",
       "      <td>20151449532</td>\n",
       "      <td>2015</td>\n",
       "      <td>7</td>\n",
       "      <td>2</td>\n",
       "      <td>1</td>\n",
       "      <td>4</td>\n",
       "      <td>2</td>\n",
       "      <td>3</td>\n",
       "      <td>2</td>\n",
       "      <td>2</td>\n",
       "      <td>2</td>\n",
       "      <td>-9</td>\n",
       "      <td>4</td>\n",
       "      <td>9</td>\n",
       "    </tr>\n",
       "    <tr>\n",
       "      <th>2</th>\n",
       "      <td>20151431263</td>\n",
       "      <td>2015</td>\n",
       "      <td>5</td>\n",
       "      <td>2</td>\n",
       "      <td>9</td>\n",
       "      <td>4</td>\n",
       "      <td>1</td>\n",
       "      <td>-9</td>\n",
       "      <td>2</td>\n",
       "      <td>2</td>\n",
       "      <td>2</td>\n",
       "      <td>-9</td>\n",
       "      <td>4</td>\n",
       "      <td>9</td>\n",
       "    </tr>\n",
       "    <tr>\n",
       "      <th>3</th>\n",
       "      <td>20151401765</td>\n",
       "      <td>2015</td>\n",
       "      <td>9</td>\n",
       "      <td>2</td>\n",
       "      <td>1</td>\n",
       "      <td>-9</td>\n",
       "      <td>2</td>\n",
       "      <td>5</td>\n",
       "      <td>2</td>\n",
       "      <td>2</td>\n",
       "      <td>2</td>\n",
       "      <td>-9</td>\n",
       "      <td>4</td>\n",
       "      <td>9</td>\n",
       "    </tr>\n",
       "    <tr>\n",
       "      <th>4</th>\n",
       "      <td>20151461771</td>\n",
       "      <td>2015</td>\n",
       "      <td>6</td>\n",
       "      <td>2</td>\n",
       "      <td>8</td>\n",
       "      <td>4</td>\n",
       "      <td>1</td>\n",
       "      <td>3</td>\n",
       "      <td>2</td>\n",
       "      <td>2</td>\n",
       "      <td>2</td>\n",
       "      <td>-9</td>\n",
       "      <td>4</td>\n",
       "      <td>9</td>\n",
       "    </tr>\n",
       "  </tbody>\n",
       "</table>\n",
       "</div>"
      ],
      "text/plain": [
       "            0     1   2   3   4   5   6   7   8   9   10  11  12  13\n",
       "0  20151524993  2015   6   2   5   3   4   2   1   2   2  -9   4   9\n",
       "1  20151449532  2015   7   2   1   4   2   3   2   2   2  -9   4   9\n",
       "2  20151431263  2015   5   2   9   4   1  -9   2   2   2  -9   4   9\n",
       "3  20151401765  2015   9   2   1  -9   2   5   2   2   2  -9   4   9\n",
       "4  20151461771  2015   6   2   8   4   1   3   2   2   2  -9   4   9"
      ]
     },
     "execution_count": 8,
     "metadata": {},
     "output_type": "execute_result"
    }
   ],
   "source": [
    "print(df.shape)\n",
    "df.head()"
   ]
  },
  {
   "cell_type": "code",
   "execution_count": null,
   "metadata": {},
   "outputs": [],
   "source": []
  },
  {
   "cell_type": "code",
   "execution_count": 12,
   "metadata": {},
   "outputs": [],
   "source": [
    "# Store your credentials in a json locally | Don't forget to add this file to your gitignore\n",
    "\n",
    "credentials_path = 'credentials.json'\n",
    "\n",
    "# Read Credential\n",
    "with open(credentials_path, 'r') as file:\n",
    "    credentials = json.load(file)\n",
    "\n",
    "openai_api_key = credentials['openai_api_key']\n",
    "\n",
    "# Pass this key to configure OpenAI's API client\n",
    "client = OpenAI(api_key=openai_api_key)\n",
    "\n"
   ]
  },
  {
   "cell_type": "code",
   "execution_count": null,
   "metadata": {},
   "outputs": [],
   "source": [
    "from openai import OpenAI\n",
    "client = OpenAI()\n",
    "\n",
    "completion = client.chat.completions.create(\n",
    "  model=\"gpt-3.5-turbo\",\n",
    "  messages=[\n",
    "    {\"role\": \"system\", \"content\": \"You are a poetic assistant, skilled in explaining complex programming concepts with creative flair.\"},\n",
    "    {\"role\": \"user\", \"content\": \"Compose a poem that explains the concept of recursion in programming.\"}\n",
    "  ]\n",
    ")\n",
    "\n",
    "print(completion.choices[0].message)"
   ]
  }
 ],
 "metadata": {
  "kernelspec": {
   "display_name": "Python 3",
   "language": "python",
   "name": "python3"
  },
  "language_info": {
   "codemirror_mode": {
    "name": "ipython",
    "version": 3
   },
   "file_extension": ".py",
   "mimetype": "text/x-python",
   "name": "python",
   "nbconvert_exporter": "python",
   "pygments_lexer": "ipython3",
   "version": "3.12.4"
  }
 },
 "nbformat": 4,
 "nbformat_minor": 2
}

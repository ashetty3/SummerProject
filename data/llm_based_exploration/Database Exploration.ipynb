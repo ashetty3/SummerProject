{
 "cells": [
  {
   "cell_type": "code",
   "execution_count": 37,
   "metadata": {},
   "outputs": [],
   "source": [
    "#!pip install ipykernel\n",
    "import duckdb\n",
    "import ibis\n",
    "import polars as pl\n",
    "from openai import OpenAI\n",
    "import json\n",
    "import pandas as pd\n",
    "from summarytools import dfSummary\n",
    "import matplotlib.pyplot as plt"
   ]
  },
  {
   "cell_type": "code",
   "execution_count": 25,
   "metadata": {},
   "outputs": [
    {
     "data": {
      "text/plain": [
       "['Demographics',\n",
       " 'EmploymentDetails',\n",
       " 'LegalInfo',\n",
       " 'SubstanceUseHistory',\n",
       " 'TreatmentInformation',\n",
       " 'ValueLabelMapping',\n",
       " 'teds_a_raw_2015_2019']"
      ]
     },
     "execution_count": 25,
     "metadata": {},
     "output_type": "execute_result"
    }
   ],
   "source": [
    "# Connect to your DuckDB database using Ibis\n",
    "con = ibis.duckdb.connect('samhsa_data.db')\n",
    "con.list_tables() # List the tables in the db\")\n"
   ]
  },
  {
   "cell_type": "markdown",
   "metadata": {},
   "source": [
    "#### Data Ingestion : Creating Polars DataFrame \n",
    "\n",
    "We could use two apporaches here. USe a simple ibis connection to excute the select query and turn the resulting pandas frame into polars. \n",
    "OR use duckdb connection and arrow to input directly into polars without a panda - polar connversion. Approach 2  appears to be marginally faster for this amount of data. So I would be going ahead with that for the future tables. \n"
   ]
  },
  {
   "cell_type": "code",
   "execution_count": 26,
   "metadata": {},
   "outputs": [],
   "source": [
    "# Ibis method\n",
    "demographics_pd = con.table('Demographics').execute() #you can add limit(100) before excecute to sample this data\n",
    "# And then convert to polars \n",
    "demo_pl = pl.from_pandas(demographics_pd)\n"
   ]
  },
  {
   "cell_type": "code",
   "execution_count": 27,
   "metadata": {},
   "outputs": [
    {
     "data": {
      "text/html": [
       "<div><style>\n",
       ".dataframe > thead > tr,\n",
       ".dataframe > tbody > tr {\n",
       "  text-align: right;\n",
       "  white-space: pre-wrap;\n",
       "}\n",
       "</style>\n",
       "<small>shape: (2, 14)</small><table border=\"1\" class=\"dataframe\"><thead><tr><th>CASEID</th><th>ADMYR</th><th>AGE</th><th>GENDER</th><th>RACE</th><th>ETHNIC</th><th>MARSTAT</th><th>EDUC</th><th>PREG</th><th>VET</th><th>STFIPS</th><th>CBSA2010</th><th>REGION</th><th>DIVISION</th></tr><tr><td>i64</td><td>i64</td><td>i64</td><td>i64</td><td>i64</td><td>i64</td><td>i64</td><td>i64</td><td>i64</td><td>i64</td><td>i64</td><td>i64</td><td>i64</td><td>i64</td></tr></thead><tbody><tr><td>20151524993</td><td>2015</td><td>6</td><td>2</td><td>5</td><td>3</td><td>4</td><td>2</td><td>1</td><td>2</td><td>2</td><td>-9</td><td>4</td><td>9</td></tr><tr><td>20151449532</td><td>2015</td><td>7</td><td>2</td><td>1</td><td>4</td><td>2</td><td>3</td><td>2</td><td>2</td><td>2</td><td>-9</td><td>4</td><td>9</td></tr></tbody></table></div>"
      ],
      "text/plain": [
       "shape: (2, 14)\n",
       "┌─────────────┬───────┬─────┬────────┬───┬────────┬──────────┬────────┬──────────┐\n",
       "│ CASEID      ┆ ADMYR ┆ AGE ┆ GENDER ┆ … ┆ STFIPS ┆ CBSA2010 ┆ REGION ┆ DIVISION │\n",
       "│ ---         ┆ ---   ┆ --- ┆ ---    ┆   ┆ ---    ┆ ---      ┆ ---    ┆ ---      │\n",
       "│ i64         ┆ i64   ┆ i64 ┆ i64    ┆   ┆ i64    ┆ i64      ┆ i64    ┆ i64      │\n",
       "╞═════════════╪═══════╪═════╪════════╪═══╪════════╪══════════╪════════╪══════════╡\n",
       "│ 20151524993 ┆ 2015  ┆ 6   ┆ 2      ┆ … ┆ 2      ┆ -9       ┆ 4      ┆ 9        │\n",
       "│ 20151449532 ┆ 2015  ┆ 7   ┆ 2      ┆ … ┆ 2      ┆ -9       ┆ 4      ┆ 9        │\n",
       "└─────────────┴───────┴─────┴────────┴───┴────────┴──────────┴────────┴──────────┘"
      ]
     },
     "execution_count": 27,
     "metadata": {},
     "output_type": "execute_result"
    }
   ],
   "source": [
    "demo_pl.head(2)\n",
    "#demo_pl.columns"
   ]
  },
  {
   "cell_type": "code",
   "execution_count": 28,
   "metadata": {},
   "outputs": [],
   "source": [
    "# DuckDB Method to Load database table \n",
    "dbcon = duckdb.connect('samhsa_data.db')\n",
    "demo = pl.from_arrow(dbcon.execute(\"SELECT * FROM Demographics\").arrow())\n",
    "dbcon.close()"
   ]
  },
  {
   "cell_type": "code",
   "execution_count": 29,
   "metadata": {},
   "outputs": [
    {
     "data": {
      "text/html": [
       "<div><style>\n",
       ".dataframe > thead > tr,\n",
       ".dataframe > tbody > tr {\n",
       "  text-align: right;\n",
       "  white-space: pre-wrap;\n",
       "}\n",
       "</style>\n",
       "<small>shape: (2, 14)</small><table border=\"1\" class=\"dataframe\"><thead><tr><th>CASEID</th><th>ADMYR</th><th>AGE</th><th>GENDER</th><th>RACE</th><th>ETHNIC</th><th>MARSTAT</th><th>EDUC</th><th>PREG</th><th>VET</th><th>STFIPS</th><th>CBSA2010</th><th>REGION</th><th>DIVISION</th></tr><tr><td>i64</td><td>i64</td><td>i64</td><td>i64</td><td>i64</td><td>i64</td><td>i64</td><td>i64</td><td>i64</td><td>i64</td><td>i64</td><td>i64</td><td>i64</td><td>i64</td></tr></thead><tbody><tr><td>20151524993</td><td>2015</td><td>6</td><td>2</td><td>5</td><td>3</td><td>4</td><td>2</td><td>1</td><td>2</td><td>2</td><td>-9</td><td>4</td><td>9</td></tr><tr><td>20151449532</td><td>2015</td><td>7</td><td>2</td><td>1</td><td>4</td><td>2</td><td>3</td><td>2</td><td>2</td><td>2</td><td>-9</td><td>4</td><td>9</td></tr></tbody></table></div>"
      ],
      "text/plain": [
       "shape: (2, 14)\n",
       "┌─────────────┬───────┬─────┬────────┬───┬────────┬──────────┬────────┬──────────┐\n",
       "│ CASEID      ┆ ADMYR ┆ AGE ┆ GENDER ┆ … ┆ STFIPS ┆ CBSA2010 ┆ REGION ┆ DIVISION │\n",
       "│ ---         ┆ ---   ┆ --- ┆ ---    ┆   ┆ ---    ┆ ---      ┆ ---    ┆ ---      │\n",
       "│ i64         ┆ i64   ┆ i64 ┆ i64    ┆   ┆ i64    ┆ i64      ┆ i64    ┆ i64      │\n",
       "╞═════════════╪═══════╪═════╪════════╪═══╪════════╪══════════╪════════╪══════════╡\n",
       "│ 20151524993 ┆ 2015  ┆ 6   ┆ 2      ┆ … ┆ 2      ┆ -9       ┆ 4      ┆ 9        │\n",
       "│ 20151449532 ┆ 2015  ┆ 7   ┆ 2      ┆ … ┆ 2      ┆ -9       ┆ 4      ┆ 9        │\n",
       "└─────────────┴───────┴─────┴────────┴───┴────────┴──────────┴────────┴──────────┘"
      ]
     },
     "execution_count": 29,
     "metadata": {},
     "output_type": "execute_result"
    }
   ],
   "source": [
    "demo.head(2)\n",
    "#pl_df.columns"
   ]
  },
  {
   "cell_type": "code",
   "execution_count": 30,
   "metadata": {},
   "outputs": [],
   "source": [
    "# Ingest all the other tables into polars dfs\n",
    "dbcon = duckdb.connect('samhsa_data.db')\n",
    "emp_det = pl.from_arrow(dbcon.execute(\"SELECT * FROM EmploymentDetails\").arrow())\n",
    "legal_info = pl.from_arrow(dbcon.execute(\"SELECT * FROM LegalInfo\").arrow())\n",
    "subs_hist = pl.from_arrow(dbcon.execute(\"SELECT * FROM SubstanceUseHistory\").arrow())\n",
    "treat_info = pl.from_arrow(dbcon.execute(\"SELECT * FROM TreatmentInformation\").arrow())\n",
    "value_label = pl.from_arrow(dbcon.execute(\"SELECT * FROM ValueLabelMapping\").arrow())\n",
    "dbcon.close()\n"
   ]
  },
  {
   "cell_type": "code",
   "execution_count": 31,
   "metadata": {},
   "outputs": [
    {
     "data": {
      "text/html": [
       "<div><style>\n",
       ".dataframe > thead > tr,\n",
       ".dataframe > tbody > tr {\n",
       "  text-align: right;\n",
       "  white-space: pre-wrap;\n",
       "}\n",
       "</style>\n",
       "<small>shape: (10, 5)</small><table border=\"1\" class=\"dataframe\"><thead><tr><th>id</th><th>value</th><th>label</th><th>tablename</th><th>date_added</th></tr><tr><td>i32</td><td>i32</td><td>str</td><td>str</td><td>date</td></tr></thead><tbody><tr><td>45</td><td>3</td><td>&quot;Retired, disabled&quot;</td><td>&quot;DETNLF&quot;</td><td>2024-07-16</td></tr><tr><td>46</td><td>4</td><td>&quot;Resident of institution&quot;</td><td>&quot;DETNLF&quot;</td><td>2024-07-16</td></tr><tr><td>47</td><td>5</td><td>&quot;Other&quot;</td><td>&quot;DETNLF&quot;</td><td>2024-07-16</td></tr><tr><td>48</td><td>-9</td><td>&quot;Missing/unknown/not collected/…</td><td>&quot;DETNLF&quot;</td><td>2024-07-16</td></tr><tr><td>49</td><td>1</td><td>&quot;Yes&quot;</td><td>&quot;PREG&quot;</td><td>2024-07-16</td></tr><tr><td>50</td><td>2</td><td>&quot;No&quot;</td><td>&quot;PREG&quot;</td><td>2024-07-16</td></tr><tr><td>51</td><td>-9</td><td>&quot;Missing/unknown/not collected/…</td><td>&quot;PREG&quot;</td><td>2024-07-16</td></tr><tr><td>52</td><td>1</td><td>&quot;Yes&quot;</td><td>&quot;VET&quot;</td><td>2024-07-16</td></tr><tr><td>53</td><td>2</td><td>&quot;No&quot;</td><td>&quot;VET&quot;</td><td>2024-07-16</td></tr><tr><td>54</td><td>-9</td><td>&quot;Missing/unknown/not collected/…</td><td>&quot;VET&quot;</td><td>2024-07-16</td></tr></tbody></table></div>"
      ],
      "text/plain": [
       "shape: (10, 5)\n",
       "┌─────┬───────┬─────────────────────────────────┬───────────┬────────────┐\n",
       "│ id  ┆ value ┆ label                           ┆ tablename ┆ date_added │\n",
       "│ --- ┆ ---   ┆ ---                             ┆ ---       ┆ ---        │\n",
       "│ i32 ┆ i32   ┆ str                             ┆ str       ┆ date       │\n",
       "╞═════╪═══════╪═════════════════════════════════╪═══════════╪════════════╡\n",
       "│ 45  ┆ 3     ┆ Retired, disabled               ┆ DETNLF    ┆ 2024-07-16 │\n",
       "│ 46  ┆ 4     ┆ Resident of institution         ┆ DETNLF    ┆ 2024-07-16 │\n",
       "│ 47  ┆ 5     ┆ Other                           ┆ DETNLF    ┆ 2024-07-16 │\n",
       "│ 48  ┆ -9    ┆ Missing/unknown/not collected/… ┆ DETNLF    ┆ 2024-07-16 │\n",
       "│ 49  ┆ 1     ┆ Yes                             ┆ PREG      ┆ 2024-07-16 │\n",
       "│ 50  ┆ 2     ┆ No                              ┆ PREG      ┆ 2024-07-16 │\n",
       "│ 51  ┆ -9    ┆ Missing/unknown/not collected/… ┆ PREG      ┆ 2024-07-16 │\n",
       "│ 52  ┆ 1     ┆ Yes                             ┆ VET       ┆ 2024-07-16 │\n",
       "│ 53  ┆ 2     ┆ No                              ┆ VET       ┆ 2024-07-16 │\n",
       "│ 54  ┆ -9    ┆ Missing/unknown/not collected/… ┆ VET       ┆ 2024-07-16 │\n",
       "└─────┴───────┴─────────────────────────────────┴───────────┴────────────┘"
      ]
     },
     "execution_count": 31,
     "metadata": {},
     "output_type": "execute_result"
    }
   ],
   "source": [
    "# Checking if update on value_label worked\n",
    "value_label.tail(10)\n"
   ]
  },
  {
   "cell_type": "markdown",
   "metadata": {},
   "source": [
    "#### Viewing high level summary of tables \n",
    "\n",
    "Visualize genral stats for columns across tables using SummaryTools and Describe Functions"
   ]
  },
  {
   "cell_type": "markdown",
   "metadata": {},
   "source": [
    "##### Building custom function to do a pandas profiling type analysis with Polars"
   ]
  },
  {
   "cell_type": "code",
   "execution_count": 45,
   "metadata": {},
   "outputs": [],
   "source": [
    "\n",
    "def eda_polars(df: pl.DataFrame):\n",
    "    # Display the first few rows\n",
    "    print(\"First few rows of the DataFrame:\")\n",
    "    print(df.head())\n",
    "    print(\"\\n\")\n",
    "    \n",
    "    # Summary statistics\n",
    "    print(\"Summary Statistics:\")\n",
    "    summary = df.describe()\n",
    "    print(summary)\n",
    "    print(\"\\n\")\n",
    "    \n",
    "    # Column names and types\n",
    "    print(\"Column Names and Types:\")\n",
    "    print(df.schema)\n",
    "    print(\"\\n\")\n",
    "    \n",
    "    # Distribution of categorical features\n",
    "    print(\"Distribution of Categorical Features:\")\n",
    "    for col in df.columns:\n",
    "        if df[col].dtype == pl.Utf8:\n",
    "            print(f\"\\nValue counts for {col}:\")\n",
    "            print(df.select(pl.col(col).value_counts()))\n",
    "    print(\"\\n\")\n",
    "    \n",
    "    # Missing values\n",
    "    print(\"Missing Values:\")\n",
    "    missing_values = df.null_count()\n",
    "    print(missing_values)\n",
    "    print(\"\\n\")\n",
    "    \n",
    "    # Correlation matrix for numerical features\n",
    "    print(\"Correlation Matrix:\")\n",
    "    numeric_cols = [col for col in df.columns if df[col].dtype in [pl.Int64, pl.Float64]]\n",
    "    if numeric_cols:\n",
    "        corr_matrix = df.select(numeric_cols).corr()\n",
    "        print(corr_matrix)\n",
    "        print(\"\\n\")\n",
    "    \n",
    " \n",
    "\n"
   ]
  },
  {
   "cell_type": "code",
   "execution_count": 47,
   "metadata": {},
   "outputs": [
    {
     "name": "stdout",
     "output_type": "stream",
     "text": [
      "First few rows of the DataFrame:\n",
      "shape: (5, 33)\n",
      "┌─────────────┬───────┬──────┬────────┬───┬──────────┬────────┬────────┬──────────┐\n",
      "│ CASEID      ┆ ADMYR ┆ SUB1 ┆ ROUTE1 ┆ … ┆ SEDHPFLG ┆ INHFLG ┆ OTCFLG ┆ OTHERFLG │\n",
      "│ ---         ┆ ---   ┆ ---  ┆ ---    ┆   ┆ ---      ┆ ---    ┆ ---    ┆ ---      │\n",
      "│ i64         ┆ i64   ┆ i64  ┆ i64    ┆   ┆ i64      ┆ i64    ┆ i64    ┆ i64      │\n",
      "╞═════════════╪═══════╪══════╪════════╪═══╪══════════╪════════╪════════╪══════════╡\n",
      "│ 20151524993 ┆ 2015  ┆ 2    ┆ 1      ┆ … ┆ 0        ┆ 0      ┆ 0      ┆ 0        │\n",
      "│ 20151449532 ┆ 2015  ┆ 5    ┆ 3      ┆ … ┆ 0        ┆ 0      ┆ 0      ┆ 0        │\n",
      "│ 20151431263 ┆ 2015  ┆ 3    ┆ 3      ┆ … ┆ 0        ┆ 0      ┆ 0      ┆ 0        │\n",
      "│ 20151401765 ┆ 2015  ┆ 2    ┆ 1      ┆ … ┆ 0        ┆ 0      ┆ 0      ┆ 0        │\n",
      "│ 20151461771 ┆ 2015  ┆ 5    ┆ 4      ┆ … ┆ 0        ┆ 0      ┆ 0      ┆ 0        │\n",
      "└─────────────┴───────┴──────┴────────┴───┴──────────┴────────┴────────┴──────────┘\n",
      "\n",
      "\n",
      "Summary Statistics:\n",
      "shape: (9, 34)\n",
      "┌───────────┬───────────┬───────────┬───────────┬───┬───────────┬───────────┬───────────┬──────────┐\n",
      "│ statistic ┆ CASEID    ┆ ADMYR     ┆ SUB1      ┆ … ┆ SEDHPFLG  ┆ INHFLG    ┆ OTCFLG    ┆ OTHERFLG │\n",
      "│ ---       ┆ ---       ┆ ---       ┆ ---       ┆   ┆ ---       ┆ ---       ┆ ---       ┆ ---      │\n",
      "│ str       ┆ f64       ┆ f64       ┆ f64       ┆   ┆ f64       ┆ f64       ┆ f64       ┆ f64      │\n",
      "╞═══════════╪═══════════╪═══════════╪═══════════╪═══╪═══════════╪═══════════╪═══════════╪══════════╡\n",
      "│ count     ┆ 9.414284e ┆ 9.414284e ┆ 9.414284e ┆ … ┆ 9.414284e ┆ 9.414284e ┆ 9.414284e ┆ 9.414284 │\n",
      "│           ┆ 6         ┆ 6         ┆ 6         ┆   ┆ 6         ┆ 6         ┆ 6         ┆ e6       │\n",
      "│ null_coun ┆ 0.0       ┆ 0.0       ┆ 0.0       ┆ … ┆ 0.0       ┆ 0.0       ┆ 0.0       ┆ 0.0      │\n",
      "│ t         ┆           ┆           ┆           ┆   ┆           ┆           ┆           ┆          │\n",
      "│ mean      ┆ 2.0172e10 ┆ 2017.0610 ┆ 4.186874  ┆ … ┆ 0.004438  ┆ 0.001159  ┆ 0.00149   ┆ 0.032421 │\n",
      "│           ┆           ┆ 68        ┆           ┆   ┆           ┆           ┆           ┆          │\n",
      "│ std       ┆ 1.3916e7  ┆ 1.386547  ┆ 3.898814  ┆ … ┆ 0.066467  ┆ 0.034027  ┆ 0.038577  ┆ 0.177117 │\n",
      "│ min       ┆ 2.0150e10 ┆ 2015.0    ┆ -9.0      ┆ … ┆ 0.0       ┆ 0.0       ┆ 0.0       ┆ 0.0      │\n",
      "│ 25%       ┆ 2.0161e10 ┆ 2016.0    ┆ 2.0       ┆ … ┆ 0.0       ┆ 0.0       ┆ 0.0       ┆ 0.0      │\n",
      "│ 50%       ┆ 2.0171e10 ┆ 2017.0    ┆ 4.0       ┆ … ┆ 0.0       ┆ 0.0       ┆ 0.0       ┆ 0.0      │\n",
      "│ 75%       ┆ 2.0182e10 ┆ 2018.0    ┆ 5.0       ┆ … ┆ 0.0       ┆ 0.0       ┆ 0.0       ┆ 0.0      │\n",
      "│ max       ┆ 2.0192e10 ┆ 2019.0    ┆ 19.0      ┆ … ┆ 1.0       ┆ 1.0       ┆ 1.0       ┆ 1.0      │\n",
      "└───────────┴───────────┴───────────┴───────────┴───┴───────────┴───────────┴───────────┴──────────┘\n",
      "\n",
      "\n",
      "Column Names and Types:\n",
      "Schema({'CASEID': Int64, 'ADMYR': Int64, 'SUB1': Int64, 'ROUTE1': Int64, 'FREQ1': Int64, 'FRSTUSE1': Int64, 'SUB2': Int64, 'ROUTE2': Int64, 'FREQ2': Int64, 'FRSTUSE2': Int64, 'SUB3': Int64, 'ROUTE3': Int64, 'FREQ3': Int64, 'FRSTUSE3': Int64, 'IDU': Int64, 'ALCFLG': Int64, 'COKEFLG': Int64, 'MARFLG': Int64, 'HERFLG': Int64, 'METHFLG': Int64, 'OPSYNFLG': Int64, 'PCPFLG': Int64, 'HALLFLG': Int64, 'MTHAMFLG': Int64, 'AMPHFLG': Int64, 'STIMFLG': Int64, 'BENZFLG': Int64, 'TRNQFLG': Int64, 'BARBFLG': Int64, 'SEDHPFLG': Int64, 'INHFLG': Int64, 'OTCFLG': Int64, 'OTHERFLG': Int64})\n",
      "\n",
      "\n",
      "Distribution of Categorical Features:\n",
      "\n",
      "\n",
      "Missing Values:\n",
      "shape: (1, 33)\n",
      "┌────────┬───────┬──────┬────────┬───┬──────────┬────────┬────────┬──────────┐\n",
      "│ CASEID ┆ ADMYR ┆ SUB1 ┆ ROUTE1 ┆ … ┆ SEDHPFLG ┆ INHFLG ┆ OTCFLG ┆ OTHERFLG │\n",
      "│ ---    ┆ ---   ┆ ---  ┆ ---    ┆   ┆ ---      ┆ ---    ┆ ---    ┆ ---      │\n",
      "│ u32    ┆ u32   ┆ u32  ┆ u32    ┆   ┆ u32      ┆ u32    ┆ u32    ┆ u32      │\n",
      "╞════════╪═══════╪══════╪════════╪═══╪══════════╪════════╪════════╪══════════╡\n",
      "│ 0      ┆ 0     ┆ 0    ┆ 0      ┆ … ┆ 0        ┆ 0      ┆ 0      ┆ 0        │\n",
      "└────────┴───────┴──────┴────────┴───┴──────────┴────────┴────────┴──────────┘\n",
      "\n",
      "\n",
      "Correlation Matrix:\n",
      "shape: (33, 33)\n",
      "┌───────────┬───────────┬───────────┬───────────┬───┬───────────┬───────────┬───────────┬──────────┐\n",
      "│ CASEID    ┆ ADMYR     ┆ SUB1      ┆ ROUTE1    ┆ … ┆ SEDHPFLG  ┆ INHFLG    ┆ OTCFLG    ┆ OTHERFLG │\n",
      "│ ---       ┆ ---       ┆ ---       ┆ ---       ┆   ┆ ---       ┆ ---       ┆ ---       ┆ ---      │\n",
      "│ f64       ┆ f64       ┆ f64       ┆ f64       ┆   ┆ f64       ┆ f64       ┆ f64       ┆ f64      │\n",
      "╞═══════════╪═══════════╪═══════════╪═══════════╪═══╪═══════════╪═══════════╪═══════════╪══════════╡\n",
      "│ 1.0       ┆ 0.999221  ┆ -0.04913  ┆ -0.085332 ┆ … ┆ -0.007191 ┆ -0.003955 ┆ -0.004725 ┆ -0.01272 │\n",
      "│ 0.999221  ┆ 1.0       ┆ -0.046191 ┆ -0.07794  ┆ … ┆ -0.006932 ┆ -0.003718 ┆ -0.004589 ┆ -0.01463 │\n",
      "│           ┆           ┆           ┆           ┆   ┆           ┆           ┆           ┆ 9        │\n",
      "│ -0.04913  ┆ -0.046191 ┆ 1.0       ┆ 0.615309  ┆ … ┆ 0.064193  ┆ 0.046969  ┆ 0.046168  ┆ 0.162002 │\n",
      "│ -0.085332 ┆ -0.07794  ┆ 0.615309  ┆ 1.0       ┆ … ┆ 0.008219  ┆ 0.007228  ┆ 0.001832  ┆ 0.033008 │\n",
      "│ -0.079715 ┆ -0.071349 ┆ 0.439455  ┆ 0.735146  ┆ … ┆ 0.014311  ┆ 0.003515  ┆ 0.004943  ┆ -0.00973 │\n",
      "│           ┆           ┆           ┆           ┆   ┆           ┆           ┆           ┆ 3        │\n",
      "│ …         ┆ …         ┆ …         ┆ …         ┆ … ┆ …         ┆ …         ┆ …         ┆ …        │\n",
      "│ -0.00624  ┆ -0.006067 ┆ 0.052612  ┆ 0.000962  ┆ … ┆ 0.000825  ┆ -0.000443 ┆ 0.000277  ┆ -0.00297 │\n",
      "│           ┆           ┆           ┆           ┆   ┆           ┆           ┆           ┆ 1        │\n",
      "│ -0.007191 ┆ -0.006932 ┆ 0.064193  ┆ 0.008219  ┆ … ┆ 1.0       ┆ 0.001436  ┆ 0.001315  ┆ -0.00529 │\n",
      "│           ┆           ┆           ┆           ┆   ┆           ┆           ┆           ┆ 1        │\n",
      "│ -0.003955 ┆ -0.003718 ┆ 0.046969  ┆ 0.007228  ┆ … ┆ 0.001436  ┆ 1.0       ┆ 0.00799   ┆ -0.00068 │\n",
      "│           ┆           ┆           ┆           ┆   ┆           ┆           ┆           ┆ 4        │\n",
      "│ -0.004725 ┆ -0.004589 ┆ 0.046168  ┆ 0.001832  ┆ … ┆ 0.001315  ┆ 0.00799   ┆ 1.0       ┆ -0.00080 │\n",
      "│           ┆           ┆           ┆           ┆   ┆           ┆           ┆           ┆ 7        │\n",
      "│ -0.01272  ┆ -0.014639 ┆ 0.162002  ┆ 0.033008  ┆ … ┆ -0.005291 ┆ -0.000684 ┆ -0.000807 ┆ 1.0      │\n",
      "└───────────┴───────────┴───────────┴───────────┴───┴───────────┴───────────┴───────────┴──────────┘\n",
      "\n",
      "\n"
     ]
    }
   ],
   "source": [
    "# Example data\n",
    "eda_polars(subs_hist)\n"
   ]
  },
  {
   "cell_type": "code",
   "execution_count": 14,
   "metadata": {},
   "outputs": [],
   "source": []
  },
  {
   "cell_type": "code",
   "execution_count": null,
   "metadata": {},
   "outputs": [],
   "source": []
  },
  {
   "cell_type": "code",
   "execution_count": 12,
   "metadata": {},
   "outputs": [],
   "source": [
    "# Store your credentials in a json locally | Don't forget to add this file to your gitignore\n",
    "\n",
    "credentials_path = 'credentials.json'\n",
    "\n",
    "# Read Credential\n",
    "with open(credentials_path, 'r') as file:\n",
    "    credentials = json.load(file)\n",
    "\n",
    "openai_api_key = credentials['openai_api_key']\n",
    "\n",
    "# Pass this key to configure OpenAI's API client\n",
    "client = OpenAI(api_key=openai_api_key)\n",
    "\n"
   ]
  },
  {
   "cell_type": "code",
   "execution_count": null,
   "metadata": {},
   "outputs": [],
   "source": [
    "from openai import OpenAI\n",
    "client = OpenAI()\n",
    "\n",
    "completion = client.chat.completions.create(\n",
    "  model=\"gpt-3.5-turbo\",\n",
    "  messages=[\n",
    "    {\"role\": \"system\", \"content\": \"You are a poetic assistant, skilled in explaining complex programming concepts with creative flair.\"},\n",
    "    {\"role\": \"user\", \"content\": \"Compose a poem that explains the concept of recursion in programming.\"}\n",
    "  ]\n",
    ")\n",
    "\n",
    "print(completion.choices[0].message)"
   ]
  }
 ],
 "metadata": {
  "kernelspec": {
   "display_name": "Python 3",
   "language": "python",
   "name": "python3"
  },
  "language_info": {
   "codemirror_mode": {
    "name": "ipython",
    "version": 3
   },
   "file_extension": ".py",
   "mimetype": "text/x-python",
   "name": "python",
   "nbconvert_exporter": "python",
   "pygments_lexer": "ipython3",
   "version": "3.12.4"
  }
 },
 "nbformat": 4,
 "nbformat_minor": 2
}

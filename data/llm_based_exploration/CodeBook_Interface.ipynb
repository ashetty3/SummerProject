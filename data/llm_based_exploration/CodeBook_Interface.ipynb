{
 "cells": [
  {
   "cell_type": "code",
   "execution_count": 14,
   "metadata": {},
   "outputs": [],
   "source": [
    "#!pip install ipykernel\n",
    "import duckdb\n",
    "import ibis\n",
    "import polars as pl\n",
    "from openai import OpenAI\n",
    "import json\n",
    "import pandas as pd"
   ]
  },
  {
   "cell_type": "code",
   "execution_count": 17,
   "metadata": {},
   "outputs": [
    {
     "data": {
      "text/plain": [
       "['demographic_information', 'teds_a_raw_2015_2019']"
      ]
     },
     "execution_count": 17,
     "metadata": {},
     "output_type": "execute_result"
    }
   ],
   "source": [
    "# Connect to your DuckDB database using Ibis\n",
    "con = ibis.duckdb.connect('samhsa_data.db')\n",
    "dbcon = duckdb.connect('samhsa_data.db')\n",
    "con.list_tables() # List the tables in the db\")"
   ]
  },
  {
   "cell_type": "code",
   "execution_count": 14,
   "metadata": {},
   "outputs": [
    {
     "data": {
      "application/vnd.jupyter.widget-view+json": {
       "model_id": "71661143cf6344859eebaed9e6881537",
       "version_major": 2,
       "version_minor": 0
      },
      "text/plain": [
       "FloatProgress(value=0.0, layout=Layout(width='auto'), style=ProgressStyle(bar_color='black'))"
      ]
     },
     "metadata": {},
     "output_type": "display_data"
    },
    {
     "data": {
      "text/plain": [
       "<duckdb.duckdb.DuckDBPyConnection at 0x1c552bc08b0>"
      ]
     },
     "execution_count": 14,
     "metadata": {},
     "output_type": "execute_result"
    }
   ],
   "source": [
    "# Create a table in DuckDB\n",
    "#table_name = 'teds_a_raw_2015_2019'\n",
    "#file_path = '../tedsa_puf_2015_2019.csv'\n",
    "\n",
    "#query = f\"\"\"\n",
    "#CREATE TABLE {table_name} AS\n",
    "#SELECT *\n",
    "#FROM read_csv_auto('{file_path}')\n",
    "#\"\"\"\n",
    "# Creating Table teds_a_raw_2015_2019\n",
    "#dbcon.execute(query)"
   ]
  },
  {
   "cell_type": "code",
   "execution_count": null,
   "metadata": {},
   "outputs": [],
   "source": []
  },
  {
   "cell_type": "code",
   "execution_count": 24,
   "metadata": {},
   "outputs": [
    {
     "ename": "CatalogException",
     "evalue": "Catalog Error: Table with name \"demographic_information\" already exists!",
     "output_type": "error",
     "traceback": [
      "\u001b[1;31m---------------------------------------------------------------------------\u001b[0m",
      "\u001b[1;31mCatalogException\u001b[0m                          Traceback (most recent call last)",
      "Cell \u001b[1;32mIn[24], line 20\u001b[0m\n\u001b[0;32m      1\u001b[0m create_table_query \u001b[38;5;241m=\u001b[39m \u001b[38;5;124m\"\"\"\u001b[39m\n\u001b[0;32m      2\u001b[0m \u001b[38;5;124mCREATE TABLE demographic_information AS\u001b[39m\n\u001b[0;32m      3\u001b[0m \u001b[38;5;124mSELECT\u001b[39m\n\u001b[1;32m   (...)\u001b[0m\n\u001b[0;32m     16\u001b[0m \u001b[38;5;124m    teds_a_raw_2015_2019;\u001b[39m\n\u001b[0;32m     17\u001b[0m \u001b[38;5;124m\"\"\"\u001b[39m\n\u001b[0;32m     19\u001b[0m \u001b[38;5;66;03m# Execute the query to create the table\u001b[39;00m\n\u001b[1;32m---> 20\u001b[0m \u001b[43mdbcon\u001b[49m\u001b[38;5;241;43m.\u001b[39;49m\u001b[43mexecute\u001b[49m\u001b[43m(\u001b[49m\u001b[43mcreate_table_query\u001b[49m\u001b[43m)\u001b[49m\n\u001b[0;32m     22\u001b[0m \u001b[38;5;66;03m# Define the query to select from the demographic_information table\u001b[39;00m\n\u001b[0;32m     23\u001b[0m select_query \u001b[38;5;241m=\u001b[39m \u001b[38;5;124m\"\u001b[39m\u001b[38;5;124mSELECT * FROM demographic_information LIMIT 100;\u001b[39m\u001b[38;5;124m\"\u001b[39m\n",
      "\u001b[1;31mCatalogException\u001b[0m: Catalog Error: Table with name \"demographic_information\" already exists!"
     ]
    }
   ],
   "source": [
    "create_table_query = \"\"\"\n",
    "CREATE TABLE demographic_information AS\n",
    "SELECT\n",
    "    CASEID AS case_id,                -- Unique identifier\n",
    "    ADMYR AS year_of_admission,       -- Year of admission\n",
    "    AGE AS age_at_admission,          -- Age at admission\n",
    "    GENDER AS gender,                 -- Gender\n",
    "    RACE AS race,                     -- Race\n",
    "    ETHNIC AS ethnicity,              -- Ethnicity\n",
    "    MARSTAT AS marital_status,        -- Marital status\n",
    "    EDUC AS education_level,          -- Education level\n",
    "    EMPLOY AS employment_status,      -- Employment status\n",
    "    VET AS veteran_status,            -- Veteran status\n",
    "    LIVARAG AS living_arrangements    -- Living arrangements\n",
    "FROM\n",
    "    teds_a_raw_2015_2019;\n",
    "\"\"\"\n",
    "\n",
    "# Execute the query to create the table\n",
    "dbcon.execute(create_table_query)\n",
    "\n",
    "# Define the query to select from the demographic_information table\n",
    "select_query = \"SELECT * FROM demographic_information LIMIT 100;\"\n",
    "\n",
    "# Execute the query and fetch the result\n",
    "result = dbcon.execute(select_query).fetchall()\n",
    "\n",
    "# Define the column names\n",
    "column_names = [\n",
    "    \"case_id\",\n",
    "    \"year_of_admission\",\n",
    "    \"age_at_admission\",\n",
    "    \"gender\",\n",
    "    \"race\",\n",
    "    \"ethnicity\",\n",
    "    \"marital_status\",\n",
    "    \"education_level\",\n",
    "    \"employment_status\",\n",
    "    \"veteran_status\",\n",
    "    \"living_arrangements\"\n",
    "]\n",
    "\n"
   ]
  },
  {
   "cell_type": "code",
   "execution_count": 21,
   "metadata": {},
   "outputs": [
    {
     "data": {
      "text/plain": [
       "<duckdb.duckdb.DuckDBPyConnection at 0x1ae8d47af70>"
      ]
     },
     "execution_count": 21,
     "metadata": {},
     "output_type": "execute_result"
    }
   ],
   "source": [
    "#query = \"\"\"\n",
    "#DROP TABLE demographic_information \n",
    "#\"\"\"\n",
    "\n",
    "#dbcon.execute(query)"
   ]
  },
  {
   "cell_type": "code",
   "execution_count": 25,
   "metadata": {},
   "outputs": [],
   "source": [
    "# Create a Polars DataFrame with the correct column names\n",
    "df = pd.DataFrame(result, columns=column_names)\n",
    "# Close the connection\n",
    "dbcon.close()"
   ]
  },
  {
   "cell_type": "code",
   "execution_count": 26,
   "metadata": {},
   "outputs": [
    {
     "data": {
      "text/html": [
       "<div>\n",
       "<style scoped>\n",
       "    .dataframe tbody tr th:only-of-type {\n",
       "        vertical-align: middle;\n",
       "    }\n",
       "\n",
       "    .dataframe tbody tr th {\n",
       "        vertical-align: top;\n",
       "    }\n",
       "\n",
       "    .dataframe thead th {\n",
       "        text-align: right;\n",
       "    }\n",
       "</style>\n",
       "<table border=\"1\" class=\"dataframe\">\n",
       "  <thead>\n",
       "    <tr style=\"text-align: right;\">\n",
       "      <th></th>\n",
       "      <th>case_id</th>\n",
       "      <th>year_of_admission</th>\n",
       "      <th>age_at_admission</th>\n",
       "      <th>gender</th>\n",
       "      <th>race</th>\n",
       "      <th>ethnicity</th>\n",
       "      <th>marital_status</th>\n",
       "      <th>education_level</th>\n",
       "      <th>employment_status</th>\n",
       "      <th>veteran_status</th>\n",
       "      <th>living_arrangements</th>\n",
       "    </tr>\n",
       "  </thead>\n",
       "  <tbody>\n",
       "    <tr>\n",
       "      <th>0</th>\n",
       "      <td>20151524993</td>\n",
       "      <td>2015</td>\n",
       "      <td>6</td>\n",
       "      <td>2</td>\n",
       "      <td>5</td>\n",
       "      <td>3</td>\n",
       "      <td>4</td>\n",
       "      <td>2</td>\n",
       "      <td>1</td>\n",
       "      <td>2</td>\n",
       "      <td>3</td>\n",
       "    </tr>\n",
       "    <tr>\n",
       "      <th>1</th>\n",
       "      <td>20151449532</td>\n",
       "      <td>2015</td>\n",
       "      <td>7</td>\n",
       "      <td>2</td>\n",
       "      <td>1</td>\n",
       "      <td>4</td>\n",
       "      <td>2</td>\n",
       "      <td>3</td>\n",
       "      <td>4</td>\n",
       "      <td>2</td>\n",
       "      <td>2</td>\n",
       "    </tr>\n",
       "    <tr>\n",
       "      <th>2</th>\n",
       "      <td>20151431263</td>\n",
       "      <td>2015</td>\n",
       "      <td>5</td>\n",
       "      <td>2</td>\n",
       "      <td>9</td>\n",
       "      <td>4</td>\n",
       "      <td>1</td>\n",
       "      <td>-9</td>\n",
       "      <td>4</td>\n",
       "      <td>2</td>\n",
       "      <td>2</td>\n",
       "    </tr>\n",
       "    <tr>\n",
       "      <th>3</th>\n",
       "      <td>20151401765</td>\n",
       "      <td>2015</td>\n",
       "      <td>9</td>\n",
       "      <td>2</td>\n",
       "      <td>1</td>\n",
       "      <td>-9</td>\n",
       "      <td>2</td>\n",
       "      <td>5</td>\n",
       "      <td>3</td>\n",
       "      <td>2</td>\n",
       "      <td>1</td>\n",
       "    </tr>\n",
       "    <tr>\n",
       "      <th>4</th>\n",
       "      <td>20151461771</td>\n",
       "      <td>2015</td>\n",
       "      <td>6</td>\n",
       "      <td>2</td>\n",
       "      <td>8</td>\n",
       "      <td>4</td>\n",
       "      <td>1</td>\n",
       "      <td>3</td>\n",
       "      <td>4</td>\n",
       "      <td>2</td>\n",
       "      <td>2</td>\n",
       "    </tr>\n",
       "  </tbody>\n",
       "</table>\n",
       "</div>"
      ],
      "text/plain": [
       "       case_id  year_of_admission  age_at_admission  gender  race  ethnicity  \\\n",
       "0  20151524993               2015                 6       2     5          3   \n",
       "1  20151449532               2015                 7       2     1          4   \n",
       "2  20151431263               2015                 5       2     9          4   \n",
       "3  20151401765               2015                 9       2     1         -9   \n",
       "4  20151461771               2015                 6       2     8          4   \n",
       "\n",
       "   marital_status  education_level  employment_status  veteran_status  \\\n",
       "0               4                2                  1               2   \n",
       "1               2                3                  4               2   \n",
       "2               1               -9                  4               2   \n",
       "3               2                5                  3               2   \n",
       "4               1                3                  4               2   \n",
       "\n",
       "   living_arrangements  \n",
       "0                    3  \n",
       "1                    2  \n",
       "2                    2  \n",
       "3                    1  \n",
       "4                    2  "
      ]
     },
     "execution_count": 26,
     "metadata": {},
     "output_type": "execute_result"
    }
   ],
   "source": [
    "df.head()"
   ]
  },
  {
   "cell_type": "code",
   "execution_count": 12,
   "metadata": {},
   "outputs": [],
   "source": [
    "# Store your credentials in a json locally | Don't forget to add this file to your gitignore\n",
    "\n",
    "credentials_path = 'credentials.json'\n",
    "\n",
    "# Read Credential\n",
    "with open(credentials_path, 'r') as file:\n",
    "    credentials = json.load(file)\n",
    "\n",
    "openai_api_key = credentials['openai_api_key']\n",
    "\n",
    "# Pass this key to configure OpenAI's API client\n",
    "client = OpenAI(api_key=openai_api_key)\n",
    "\n"
   ]
  },
  {
   "cell_type": "code",
   "execution_count": null,
   "metadata": {},
   "outputs": [],
   "source": [
    "from openai import OpenAI\n",
    "client = OpenAI()\n",
    "\n",
    "completion = client.chat.completions.create(\n",
    "  model=\"gpt-3.5-turbo\",\n",
    "  messages=[\n",
    "    {\"role\": \"system\", \"content\": \"You are a poetic assistant, skilled in explaining complex programming concepts with creative flair.\"},\n",
    "    {\"role\": \"user\", \"content\": \"Compose a poem that explains the concept of recursion in programming.\"}\n",
    "  ]\n",
    ")\n",
    "\n",
    "print(completion.choices[0].message)"
   ]
  }
 ],
 "metadata": {
  "kernelspec": {
   "display_name": "Python 3",
   "language": "python",
   "name": "python3"
  },
  "language_info": {
   "codemirror_mode": {
    "name": "ipython",
    "version": 3
   },
   "file_extension": ".py",
   "mimetype": "text/x-python",
   "name": "python",
   "nbconvert_exporter": "python",
   "pygments_lexer": "ipython3",
   "version": "3.12.4"
  }
 },
 "nbformat": 4,
 "nbformat_minor": 2
}

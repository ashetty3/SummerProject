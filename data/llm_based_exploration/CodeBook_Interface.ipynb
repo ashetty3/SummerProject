{
 "cells": [
  {
   "cell_type": "code",
   "execution_count": 3,
   "metadata": {},
   "outputs": [],
   "source": [
    "import ibis\n",
    "import duckdb\n",
    "import polars\n",
    "import streamlit\n"
   ]
  },
  {
   "cell_type": "code",
   "execution_count": 15,
   "metadata": {},
   "outputs": [
    {
     "data": {
      "text/plain": [
       "['teds_a_raw_2015_2019']"
      ]
     },
     "execution_count": 15,
     "metadata": {},
     "output_type": "execute_result"
    }
   ],
   "source": [
    "# Connect to your DuckDB database using Ibis\n",
    "con = ibis.duckdb.connect('samhsa_data.db')\n",
    "dbcon = duckdb.connect('samhsa_data.db')\n",
    "con.list_tables() # List the tables in the db\")"
   ]
  },
  {
   "cell_type": "code",
   "execution_count": 14,
   "metadata": {},
   "outputs": [
    {
     "data": {
      "application/vnd.jupyter.widget-view+json": {
       "model_id": "71661143cf6344859eebaed9e6881537",
       "version_major": 2,
       "version_minor": 0
      },
      "text/plain": [
       "FloatProgress(value=0.0, layout=Layout(width='auto'), style=ProgressStyle(bar_color='black'))"
      ]
     },
     "metadata": {},
     "output_type": "display_data"
    },
    {
     "data": {
      "text/plain": [
       "<duckdb.duckdb.DuckDBPyConnection at 0x1c552bc08b0>"
      ]
     },
     "execution_count": 14,
     "metadata": {},
     "output_type": "execute_result"
    }
   ],
   "source": [
    "# Create a table in DuckDB\n",
    "#table_name = 'teds_a_raw_2015_2019'\n",
    "#file_path = '../tedsa_puf_2015_2019.csv'\n",
    "\n",
    "#query = f\"\"\"\n",
    "#CREATE TABLE {table_name} AS\n",
    "#SELECT *\n",
    "#FROM read_csv_auto('{file_path}')\n",
    "#\"\"\"\n",
    "# Creating Table teds_a_raw_2015_2019\n",
    "#dbcon.execute(query)"
   ]
  },
  {
   "cell_type": "code",
   "execution_count": 9,
   "metadata": {},
   "outputs": [],
   "source": [
    "\n",
    "\n"
   ]
  }
 ],
 "metadata": {
  "kernelspec": {
   "display_name": "Python 3",
   "language": "python",
   "name": "python3"
  },
  "language_info": {
   "codemirror_mode": {
    "name": "ipython",
    "version": 3
   },
   "file_extension": ".py",
   "mimetype": "text/x-python",
   "name": "python",
   "nbconvert_exporter": "python",
   "pygments_lexer": "ipython3",
   "version": "3.8.19"
  }
 },
 "nbformat": 4,
 "nbformat_minor": 2
}
